{
 "cells": [
  {
   "cell_type": "code",
   "execution_count": 1,
   "id": "06c0d564",
   "metadata": {},
   "outputs": [],
   "source": [
    "%reload_ext autoreload\n",
    "%autoreload 2\n",
    "\n",
    "import sys\n",
    "sys.path.append(\"..\")\n",
    "\n",
    "import os\n",
    "import torch\n",
    "from torchvision import transforms as transforms\n",
    "\n",
    "\n",
    "from src.datasets import data, configs, utils\n",
    "from src.utils import training_utils\n",
    "\n",
    "training_utils.set_seed(42)"
   ]
  },
  {
   "cell_type": "markdown",
   "id": "f1230396-0575-4a4b-aa80-7b7a826b3430",
   "metadata": {},
   "source": [
    "The dataset for the paper was generated in a similar way using the code below.\n",
    "Note that `delta` in this code is a distance from the diagonal in the latent space.\n",
    "However, in the paper `delta` describes the width of the band around the diagonal, \n",
    "meaning that `2 * delta_in_code = delta_in_paper`."
   ]
  },
  {
   "cell_type": "markdown",
   "id": "239d0a0e",
   "metadata": {},
   "source": [
    "### Setting the path to the data"
   ]
  },
  {
   "cell_type": "code",
   "execution_count": 2,
   "id": "ea9c7b51",
   "metadata": {},
   "outputs": [],
   "source": [
    "SAVE_PATH = \"data_path\"  # replace with your path\n",
    "SAVE_PATH = os.path.join(SAVE_PATH, \"dsprites\")\n",
    "\n",
    "os.makedirs(SAVE_PATH, exist_ok=True)"
   ]
  },
  {
   "cell_type": "markdown",
   "id": "58cc96c0",
   "metadata": {},
   "source": [
    "For training it is necessary to have the dataset in the following structure:\n",
    "\n",
    "```\n",
    "data_path\n",
    "└── dsprites\n",
    "   ├── train\n",
    "   │   └── diagonal\n",
    "   │       ├── images\n",
    "   │       │   └── images.pt\n",
    "   │       └── latents\n",
    "   │           └── latents.pt\n",
    "   └── test\n",
    "       ├── diagonal\n",
    "       │   ├── images\n",
    "       │   │   └── images.pt\n",
    "       │   └── latents\n",
    "       │       └── latents.pt\n",
    "       └── no_overlap_off_diagonal\n",
    "           ├── images\n",
    "           │   └── images.pt\n",
    "           └── latents\n",
    "               └── latents.pt\n",
    "```"
   ]
  },
  {
   "cell_type": "markdown",
   "id": "2d382059",
   "metadata": {},
   "source": [
    "### Generating in-diagonal training data"
   ]
  },
  {
   "cell_type": "code",
   "execution_count": 3,
   "id": "22476f69-2611-4451-ba20-7d5c32097130",
   "metadata": {},
   "outputs": [
    {
     "name": "stderr",
     "output_type": "stream",
     "text": [
      "Generating images (sampling: diagonal): 100%|██████████| 100/100 [00:00<00:00, 199.00it/s]\n",
      "100it [00:00, 11343.93it/s]\n"
     ]
    }
   ],
   "source": [
    "default_cfg = configs.SpriteWorldConfig()\n",
    "\n",
    "delta = 0.125\n",
    "sample_mode = \"diagonal\"\n",
    "n_slots = 2\n",
    "n_samples = 100\n",
    "no_overlap = True\n",
    "train_diagonal_dataset = data.SpriteWorldDataset(\n",
    "    n_samples,\n",
    "    n_slots,\n",
    "    default_cfg,\n",
    "    sample_mode=sample_mode,\n",
    "    no_overlap=no_overlap,\n",
    "    delta=delta,\n",
    ")\n",
    "\n",
    "# making the folder for the dataset\n",
    "TRAIN_PATH = os.path.join(SAVE_PATH, \"train\", f\"{sample_mode}\")\n",
    "os.makedirs(TRAIN_PATH, exist_ok=True)\n",
    "\n",
    "# saving the dataset\n",
    "utils.dump_generated_dataset(train_diagonal_dataset, TRAIN_PATH)"
   ]
  },
  {
   "cell_type": "markdown",
   "id": "72995319",
   "metadata": {},
   "source": [
    "### Generating in-diagonal test dataset"
   ]
  },
  {
   "cell_type": "code",
   "execution_count": 4,
   "id": "b6fd22c6",
   "metadata": {},
   "outputs": [
    {
     "name": "stderr",
     "output_type": "stream",
     "text": [
      "Generating images (sampling: diagonal): 100%|██████████| 100/100 [00:00<00:00, 190.44it/s]\n",
      "100it [00:00, 16881.20it/s]\n"
     ]
    }
   ],
   "source": [
    "default_cfg = configs.SpriteWorldConfig()\n",
    "\n",
    "delta = 0.125\n",
    "sample_mode = \"diagonal\"\n",
    "n_slots = 2\n",
    "n_samples = 100\n",
    "no_overlap = True\n",
    "test_diagonal_dataset = data.SpriteWorldDataset(\n",
    "    n_samples,\n",
    "    n_slots,\n",
    "    default_cfg,\n",
    "    sample_mode=sample_mode,\n",
    "    no_overlap=no_overlap,\n",
    "    delta=delta,\n",
    ")\n",
    "\n",
    "# making the folder for the dataset\n",
    "TEST_PATH = os.path.join(SAVE_PATH, \"test\", f\"{sample_mode}\")\n",
    "os.makedirs(TEST_PATH, exist_ok=True)\n",
    "\n",
    "# saving the dataset\n",
    "utils.dump_generated_dataset(test_diagonal_dataset, TEST_PATH)"
   ]
  },
  {
   "cell_type": "markdown",
   "id": "227c3761",
   "metadata": {},
   "source": [
    "### Generating off-diagonal test dataset"
   ]
  },
  {
   "cell_type": "code",
   "execution_count": 5,
   "id": "aba3c949",
   "metadata": {},
   "outputs": [
    {
     "name": "stderr",
     "output_type": "stream",
     "text": [
      "Generating images (sampling: off_diagonal): 100%|██████████| 100/100 [00:00<00:00, 180.10it/s]\n",
      "100it [00:00, 13297.52it/s]\n"
     ]
    }
   ],
   "source": [
    "default_cfg = configs.SpriteWorldConfig()\n",
    "\n",
    "delta = 0.125\n",
    "sample_mode = \"off_diagonal\"\n",
    "n_slots = 2\n",
    "n_samples = 100\n",
    "no_overlap = True # this ensures that this case is the opposite of the diagonal case, but it is not accounting for overlaps\n",
    "\n",
    "off_diagonal_dataset = data.SpriteWorldDataset(\n",
    "    n_samples,\n",
    "    n_slots,\n",
    "    default_cfg,\n",
    "    sample_mode=sample_mode,\n",
    "    no_overlap=no_overlap,\n",
    "    delta=delta,\n",
    "    transform=transforms.Compose([transforms.ToPILImage(), transforms.ToTensor()]),\n",
    ")\n",
    "\n",
    "# making the folder for the dataset\n",
    "TEST_PATH = os.path.join(SAVE_PATH, \"test\", f\"{sample_mode}\")\n",
    "os.makedirs(TEST_PATH, exist_ok=True)\n",
    "\n",
    "# saving the dataset\n",
    "utils.dump_generated_dataset(off_diagonal_dataset, TEST_PATH)"
   ]
  },
  {
   "cell_type": "markdown",
   "id": "c0a612db",
   "metadata": {},
   "source": [
    "### (Optional) Excluding overlapping OOD samples\n",
    "\n",
    "For the paper, we excluded the overlapping OOD samples from the test dataset.\n",
    "You might want to filter the dataset we created in the previous step, or create a new one\n",
    "and save it under the \"no_overlap_off_diagonal\" directory."
   ]
  },
  {
   "cell_type": "code",
   "execution_count": 6,
   "id": "2da8741b",
   "metadata": {},
   "outputs": [
    {
     "name": "stderr",
     "output_type": "stream",
     "text": [
      "Generating images (sampling: off_diagonal): 100%|██████████| 100/100 [00:00<00:00, 183.26it/s]\n"
     ]
    }
   ],
   "source": [
    "default_cfg = configs.SpriteWorldConfig()\n",
    "\n",
    "delta = 0.125\n",
    "sample_mode = \"off_diagonal\"\n",
    "n_slots = 2\n",
    "n_samples = 100\n",
    "no_overlap = True  # this ensures that this case is the opposite of the diagonal case, but it is not accounting for overlaps\n",
    "\n",
    "no_overlap_off_diagonal_dataset = data.SpriteWorldDataset(\n",
    "    n_samples,\n",
    "    n_slots,\n",
    "    default_cfg,\n",
    "    sample_mode=sample_mode,\n",
    "    no_overlap=no_overlap,\n",
    "    delta=delta,\n",
    "    transform=transforms.Compose([transforms.ToPILImage(), transforms.ToTensor()]),\n",
    ")\n",
    "\n",
    "n_objects = 50\n",
    "_, indicies = utils.filter_objects(\n",
    "    no_overlap_off_diagonal_dataset.z, max_samples=n_objects, threshold=0.2\n",
    ")\n",
    "\n",
    "# making the folder for the dataset\n",
    "TEST_PATH = os.path.join(SAVE_PATH, \"test\", \"no_overlap_off_diagonal\")\n",
    "os.makedirs(TEST_PATH, exist_ok=True)\n",
    "os.makedirs(os.path.join(TEST_PATH, \"images\"), exist_ok=True)\n",
    "os.makedirs(os.path.join(TEST_PATH, \"latents\"), exist_ok=True)\n",
    "\n",
    "# saving the dataset\n",
    "torch.save(\n",
    "    off_diagonal_dataset.x[indicies], os.path.join(TEST_PATH, \"images\", \"images.pt\")\n",
    ")\n",
    "torch.save(\n",
    "    torch.cat(\n",
    "        [\n",
    "            off_diagonal_dataset.z[indicies, :, :4],\n",
    "            off_diagonal_dataset.z[indicies, :, 5:-2],\n",
    "        ],\n",
    "        dim=-1,\n",
    "    ),\n",
    "    os.path.join(TEST_PATH, \"latents\", \"latents.pt\"),\n",
    ")"
   ]
  },
  {
   "cell_type": "code",
   "execution_count": null,
   "id": "42220fec",
   "metadata": {},
   "outputs": [],
   "source": []
  }
 ],
 "metadata": {
  "kernelspec": {
   "display_name": "Python 3 (ipykernel)",
   "language": "python",
   "name": "python3"
  },
  "language_info": {
   "codemirror_mode": {
    "name": "ipython",
    "version": 3
   },
   "file_extension": ".py",
   "mimetype": "text/x-python",
   "name": "python",
   "nbconvert_exporter": "python",
   "pygments_lexer": "ipython3",
   "version": "3.10.13"
  }
 },
 "nbformat": 4,
 "nbformat_minor": 5
}
