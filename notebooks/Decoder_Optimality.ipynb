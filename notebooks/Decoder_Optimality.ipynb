{
 "cells": [
  {
   "cell_type": "code",
   "execution_count": 1,
   "metadata": {
    "is_executing": true
   },
   "outputs": [
    {
     "data": {
      "text/plain": [
       "<torch._C.Generator at 0x208d38682b0>"
      ]
     },
     "execution_count": 1,
     "metadata": {},
     "output_type": "execute_result"
    }
   ],
   "source": [
    "import sys\n",
    "\n",
    "sys.path.append(\"..\")\n",
    "\n",
    "import numpy as np\n",
    "import torch\n",
    "import random\n",
    "\n",
    "\n",
    "from src.datasets import data, utils, configs\n",
    "from torchvision import transforms as transforms\n",
    "\n",
    "seed = 42\n",
    "random.seed(seed)\n",
    "np.random.seed(seed)\n",
    "torch.manual_seed(seed)"
   ]
  },
  {
   "cell_type": "code",
   "execution_count": 2,
   "metadata": {},
   "outputs": [
    {
     "name": "stderr",
     "output_type": "stream",
     "text": [
      "Generating images (sampling: diagonal): 100%|█████████████████████████████████████| 5000/5000 [00:43<00:00, 113.96it/s]\n"
     ]
    }
   ],
   "source": [
    "# Step 1: Create a diagonal dataset, to get valid latents\n",
    "n_samples = 5000\n",
    "n_slots = 2\n",
    "default_cfg = configs.SpriteWorldConfig()\n",
    "sample_mode = \"diagonal\"\n",
    "no_overlap = True\n",
    "delta = 0.125\n",
    "\n",
    "diagonal_dataset = data.SpriteWorldDataset(\n",
    "    n_samples,\n",
    "    n_slots,\n",
    "    default_cfg,\n",
    "    sample_mode=sample_mode,\n",
    "    no_overlap=no_overlap,\n",
    "    delta=delta,\n",
    "    transform=transforms.Compose(\n",
    "    [transforms.ToPILImage(), transforms.ToTensor()])\n",
    ")"
   ]
  },
  {
   "cell_type": "code",
   "execution_count": 3,
   "metadata": {},
   "outputs": [],
   "source": [
    "# Step 2: Create a dataloader\n",
    "scale = torch.FloatTensor(\n",
    "    [rng.max - rng.min for rng in default_cfg.get_ranges().values()]\n",
    ").reshape(1, 1, -1)\n",
    "scale = torch.cat([scale[:, :, :-4], scale[:, :, -3:-2]], dim=-1)\n",
    "\n",
    "\n",
    "min_offset = torch.FloatTensor(\n",
    "    [rng.min for rng in default_cfg.get_ranges().values()]\n",
    ").reshape(1, 1, -1)\n",
    "min_offset = torch.cat([min_offset[:, :, :-4], min_offset[:, :, -3:-2]], dim=-1)\n",
    "\n",
    "batch_size = 128\n",
    "loader = torch.utils.data.DataLoader(\n",
    "    diagonal_dataset,\n",
    "    batch_size=batch_size,\n",
    "    shuffle=False,\n",
    "    collate_fn=lambda b: utils.collate_fn_normalizer(b, min_offset, scale),\n",
    ")"
   ]
  },
  {
   "cell_type": "code",
   "execution_count": 4,
   "metadata": {},
   "outputs": [
    {
     "name": "stderr",
     "output_type": "stream",
     "text": [
      "Generating images (sampling: diagonal): 100%|█████████████████████████████████████| 5000/5000 [00:40<00:00, 124.10it/s]\n"
     ]
    }
   ],
   "source": [
    "# Step 3: Make a permutation for every batch and create permuted dataset\n",
    "perms = []\n",
    "batch_len_accum = 0\n",
    "for _, true_latents in loader:\n",
    "    batch_len = true_latents.shape[0]\n",
    "    perm = torch.randperm(batch_len) + batch_len_accum\n",
    "    perms.append(perm)\n",
    "    batch_len_accum += batch_len\n",
    "\n",
    "perms_concated = torch.cat(perms)\n",
    "\n",
    "permuted_latents = torch.cat([diagonal_dataset.z[:, 0].unsqueeze(1), diagonal_dataset.z[perms_concated, 1].unsqueeze(1)], dim=1)\n",
    "\n",
    "permuted_dataset = data.SpriteWorldDataset(\n",
    "    n_samples,\n",
    "    n_slots,\n",
    "    default_cfg,\n",
    "    sample_mode=sample_mode,\n",
    "    no_overlap=no_overlap,\n",
    "    delta=delta,\n",
    "    z=permuted_latents,\n",
    "    transform=transforms.Compose(\n",
    "    [transforms.ToPILImage(), transforms.ToTensor()])\n",
    "\n",
    ")\n",
    "\n",
    "permuted_dataloader = torch.utils.data.DataLoader(\n",
    "    permuted_dataset,\n",
    "    batch_size=batch_size,\n",
    "    shuffle=False,\n",
    "    collate_fn=lambda b: utils.collate_fn_normalizer(b, min_offset, scale),\n",
    ")"
   ]
  },
  {
   "cell_type": "code",
   "execution_count": 5,
   "metadata": {},
   "outputs": [
    {
     "data": {
      "text/plain": [
       "SlotMLPAdditive(\n",
       "  (encoder): SlotEncoder(\n",
       "    (encoder): Sequential(\n",
       "      (0): Conv2d(3, 32, kernel_size=(4, 4), stride=(2, 2), padding=(1, 1))\n",
       "      (1): ELU(alpha=1.0)\n",
       "      (2): Conv2d(32, 32, kernel_size=(4, 4), stride=(2, 2), padding=(1, 1))\n",
       "      (3): ELU(alpha=1.0)\n",
       "      (4): Conv2d(32, 32, kernel_size=(4, 4), stride=(2, 2), padding=(1, 1))\n",
       "      (5): ELU(alpha=1.0)\n",
       "      (6): Conv2d(32, 32, kernel_size=(4, 4), stride=(2, 2), padding=(1, 1))\n",
       "      (7): ELU(alpha=1.0)\n",
       "      (8): View()\n",
       "      (9): Linear(in_features=512, out_features=256, bias=True)\n",
       "      (10): ELU(alpha=1.0)\n",
       "      (11): Linear(in_features=256, out_features=256, bias=True)\n",
       "      (12): ELU(alpha=1.0)\n",
       "      (13): Linear(in_features=256, out_features=128, bias=True)\n",
       "      (14): ELU(alpha=1.0)\n",
       "      (15): Linear(in_features=128, out_features=10, bias=True)\n",
       "    )\n",
       "  )\n",
       "  (decoder): SlotMLPAdditiveDecoder(\n",
       "    (decoder): Sequential(\n",
       "      (0): Linear(in_features=5, out_features=256, bias=True)\n",
       "      (1): ELU(alpha=1.0)\n",
       "      (2): Linear(in_features=256, out_features=256, bias=True)\n",
       "      (3): ELU(alpha=1.0)\n",
       "      (4): Linear(in_features=256, out_features=512, bias=True)\n",
       "      (5): ELU(alpha=1.0)\n",
       "      (6): View()\n",
       "      (7): ConvTranspose2d(32, 32, kernel_size=(4, 4), stride=(2, 2), padding=(1, 1))\n",
       "      (8): ELU(alpha=1.0)\n",
       "      (9): ConvTranspose2d(32, 32, kernel_size=(4, 4), stride=(2, 2), padding=(1, 1))\n",
       "      (10): ELU(alpha=1.0)\n",
       "      (11): ConvTranspose2d(32, 32, kernel_size=(4, 4), stride=(2, 2), padding=(1, 1))\n",
       "      (12): ELU(alpha=1.0)\n",
       "      (13): ConvTranspose2d(32, 3, kernel_size=(4, 4), stride=(2, 2), padding=(1, 1))\n",
       "    )\n",
       "  )\n",
       ")"
      ]
     },
     "execution_count": 5,
     "metadata": {},
     "output_type": "execute_result"
    }
   ],
   "source": [
    "# Step 4: Load the model\n",
    "from src.models import base_models\n",
    "\n",
    "checkpoint_path = \"D:/git_projects/bethgelab/lab_rotation/object_centric_ood/notebooks/models/Supervised, diagonal, 2 objects/SlotMLPAdditive_2023-06-15_16-36-39_last_train_model_diagonal_2023_checkpoint.pt\"\n",
    "checkpoint = torch.load(checkpoint_path)\n",
    "\n",
    "model = model = base_models.SlotMLPAdditive(3, 2, 5)\n",
    "\n",
    "\n",
    "model.load_state_dict(checkpoint[\"model_state_dict\"])\n",
    "model.eval()"
   ]
  },
  {
   "cell_type": "code",
   "execution_count": 6,
   "metadata": {},
   "outputs": [],
   "source": [
    "# Step 5: Get the latents for the original dataset and reshuffle them\n",
    "from src.metrics import hungarian_slots_loss\n",
    "\n",
    "latents = []\n",
    "with torch.no_grad():\n",
    "    for images, true_latents in loader:\n",
    "        true_figures = images[:, :-1, ...]\n",
    "        images = images[:, -1, ...].squeeze(1)\n",
    "\n",
    "        output = model(images)\n",
    "        predicted_figures = output[\"reconstructed_figures\"]\n",
    "        \n",
    "        figures_reshaped = true_figures.view(true_figures.shape[0], true_figures.shape[1], -1)\n",
    "\n",
    "        predicted_figures = predicted_figures.permute(1, 0, 2, 3, 4)\n",
    "        predicted_figures_reshaped = predicted_figures.reshape(\n",
    "            predicted_figures.shape[0], predicted_figures.shape[1], -1\n",
    "        )\n",
    "\n",
    "        _, indexes = hungarian_slots_loss(figures_reshaped, predicted_figures_reshaped)\n",
    "        \n",
    "        indexes = torch.LongTensor(indexes)\n",
    "        predicted_latents = output[\"predicted_latents\"].detach().cpu()\n",
    "        true_latents = true_latents.detach().cpu()\n",
    "\n",
    "        # shuffling predicted latents to match true latents\n",
    "        predicted_latents = predicted_latents.gather(\n",
    "            1,\n",
    "            indexes[:, :, 1].unsqueeze(-1).expand(-1, -1, true_latents.shape[-1]),\n",
    "        )\n",
    "        latents.append(predicted_latents)\n",
    "\n",
    "latents = torch.cat(latents)\n",
    "# after this point we had z_hat matched to original, not permuted z"
   ]
  },
  {
   "cell_type": "code",
   "execution_count": 89,
   "metadata": {},
   "outputs": [],
   "source": [
    "for images, true_latents in loader:\n",
    "    break"
   ]
  },
  {
   "cell_type": "code",
   "execution_count": 99,
   "metadata": {},
   "outputs": [],
   "source": [
    "temp_image_true, temp_figures_true = model.decoder(true_latents[2].unsqueeze(0))"
   ]
  },
  {
   "cell_type": "code",
   "execution_count": 100,
   "metadata": {},
   "outputs": [],
   "source": [
    "temp_image, temp_figures = model.decoder(latents[2].unsqueeze(0))"
   ]
  },
  {
   "cell_type": "code",
   "execution_count": 103,
   "metadata": {},
   "outputs": [
    {
     "name": "stderr",
     "output_type": "stream",
     "text": [
      "Clipping input data to the valid range for imshow with RGB data ([0..1] for floats or [0..255] for integers).\n"
     ]
    },
    {
     "data": {
      "text/plain": [
       "<matplotlib.image.AxesImage at 0x1fbedc42230>"
      ]
     },
     "execution_count": 103,
     "metadata": {},
     "output_type": "execute_result"
    },
    {
     "data": {
      "image/png": "[encoded data removed]",
      "text/plain": [
       "<Figure size 432x288 with 1 Axes>"
      ]
     },
     "metadata": {
      "needs_background": "light"
     },
     "output_type": "display_data"
    }
   ],
   "source": [
    "plt.imshow(temp_figures_true.squeeze()[1].squeeze().permute(1, 2, 0).detach().numpy())"
   ]
  },
  {
   "cell_type": "code",
   "execution_count": 104,
   "metadata": {},
   "outputs": [
    {
     "name": "stderr",
     "output_type": "stream",
     "text": [
      "Clipping input data to the valid range for imshow with RGB data ([0..1] for floats or [0..255] for integers).\n"
     ]
    },
    {
     "data": {
      "text/plain": [
       "<matplotlib.image.AxesImage at 0x1fbedca9ba0>"
      ]
     },
     "execution_count": 104,
     "metadata": {},
     "output_type": "execute_result"
    },
    {
     "data": {
      "image/png": "[encoded data removed]",
      "text/plain": [
       "<Figure size 432x288 with 1 Axes>"
      ]
     },
     "metadata": {
      "needs_background": "light"
     },
     "output_type": "display_data"
    }
   ],
   "source": [
    "plt.imshow(temp_figures.squeeze()[1].squeeze().permute(1, 2, 0).detach().numpy())"
   ]
  },
  {
   "cell_type": "code",
   "execution_count": 7,
   "metadata": {},
   "outputs": [],
   "source": [
    "# Step 6: Permute predicted latents, and compare with permuted dataset\n",
    "latents = torch.cat([latents[:, 0].unsqueeze(1), latents[perms_concated, 1].unsqueeze(1)], dim=1)"
   ]
  },
  {
   "cell_type": "code",
   "execution_count": 14,
   "metadata": {},
   "outputs": [],
   "source": [
    "# Step 6: continued\n",
    "mse = 0\n",
    "batch_size_accum = 0\n",
    "with torch.no_grad():\n",
    "    for permuted_images, permuted_latents in permuted_dataloader:\n",
    "        true_figures = permuted_images[:, :-1, ...]\n",
    "        permuted_images = permuted_images[:, -1, ...].squeeze(1)\n",
    "        \n",
    "        imagined_images, _ = model.decoder(\n",
    "            latents[batch_size_accum : batch_size_accum + len(permuted_images)]\n",
    "        )\n",
    "        \n",
    "        batch_size_accum += len(permuted_images)\n",
    "        # compare reconstructed images with imagined images\n",
    "\n",
    "        mse += ((permuted_images - imagined_images) ** 2).sum() / len(permuted_dataset)"
   ]
  },
  {
   "cell_type": "code",
   "execution_count": 15,
   "metadata": {},
   "outputs": [
    {
     "data": {
      "text/plain": [
       "tensor(2.0411)"
      ]
     },
     "execution_count": 15,
     "metadata": {},
     "output_type": "execute_result"
    }
   ],
   "source": [
    "mse"
   ]
  },
  {
   "cell_type": "code",
   "execution_count": 27,
   "metadata": {},
   "outputs": [
    {
     "data": {
      "text/plain": [
       "torch.Size([8, 3, 64, 64])"
      ]
     },
     "execution_count": 27,
     "metadata": {},
     "output_type": "execute_result"
    }
   ],
   "source": [
    "imagined_images.shape"
   ]
  },
  {
   "cell_type": "code",
   "execution_count": 10,
   "metadata": {},
   "outputs": [],
   "source": [
    "import matplotlib.pyplot as plt"
   ]
  },
  {
   "cell_type": "code",
   "execution_count": 11,
   "metadata": {},
   "outputs": [
    {
     "data": {
      "text/plain": [
       "<matplotlib.image.AxesImage at 0x2093a974b20>"
      ]
     },
     "execution_count": 11,
     "metadata": {},
     "output_type": "execute_result"
    },
    {
     "data": {
      "image/png": "[encoded data removed]",
      "text/plain": [
       "<Figure size 432x288 with 1 Axes>"
      ]
     },
     "metadata": {
      "needs_background": "light"
     },
     "output_type": "display_data"
    }
   ],
   "source": [
    "plt.imshow(permuted_images[1].permute(1, 2, 0))"
   ]
  },
  {
   "cell_type": "code",
   "execution_count": 12,
   "metadata": {},
   "outputs": [
    {
     "data": {
      "text/plain": [
       "<matplotlib.image.AxesImage at 0x2093aa42aa0>"
      ]
     },
     "execution_count": 12,
     "metadata": {},
     "output_type": "execute_result"
    },
    {
     "data": {
      "image/png": "[encoded data removed]",
      "text/plain": [
       "<Figure size 432x288 with 1 Axes>"
      ]
     },
     "metadata": {
      "needs_background": "light"
     },
     "output_type": "display_data"
    }
   ],
   "source": [
    "plt.imshow(imagined_images.clip(0, 1)[1].permute(1, 2, 0))"
   ]
  },
  {
   "cell_type": "code",
   "execution_count": 42,
   "metadata": {},
   "outputs": [
    {
     "data": {
      "text/plain": [
       "<matplotlib.image.AxesImage at 0x1fbb894c280>"
      ]
     },
     "execution_count": 42,
     "metadata": {},
     "output_type": "execute_result"
    },
    {
     "data": {
      "image/png": "[encoded data removed]",
      "text/plain": [
       "<Figure size 432x288 with 1 Axes>"
      ]
     },
     "metadata": {
      "needs_background": "light"
     },
     "output_type": "display_data"
    }
   ],
   "source": [
    "plt.imshow(permuted_dataset[0][0][-1].permute(1, 2, 0))"
   ]
  },
  {
   "cell_type": "code",
   "execution_count": 40,
   "metadata": {},
   "outputs": [
    {
     "data": {
      "text/plain": [
       "torch.Size([5000, 2, 8])"
      ]
     },
     "execution_count": 40,
     "metadata": {},
     "output_type": "execute_result"
    }
   ],
   "source": [
    "torch.cat([diagonal_dataset.z[:, 0].unsqueeze(1), diagonal_dataset.z[perms_concated, 1].unsqueeze(1)], dim=1)"
   ]
  },
  {
   "cell_type": "code",
   "execution_count": 24,
   "metadata": {},
   "outputs": [
    {
     "data": {
      "text/plain": [
       "<matplotlib.image.AxesImage at 0x1d2ba4d6a40>"
      ]
     },
     "execution_count": 24,
     "metadata": {},
     "output_type": "execute_result"
    },
    {
     "data": {
      "image/png": "[encoded data removed]",
      "text/plain": [
       "<Figure size 432x288 with 1 Axes>"
      ]
     },
     "metadata": {
      "needs_background": "light"
     },
     "output_type": "display_data"
    }
   ],
   "source": [
    "plt.imshow(permuted_dataset.x[0][0].permute(1, 2, 0))"
   ]
  },
  {
   "cell_type": "code",
   "execution_count": 25,
   "metadata": {},
   "outputs": [
    {
     "data": {
      "text/plain": [
       "<matplotlib.image.AxesImage at 0x1d2ba53d6f0>"
      ]
     },
     "execution_count": 25,
     "metadata": {},
     "output_type": "execute_result"
    },
    {
     "data": {
      "image/png": "[encoded data removed]",
      "text/plain": [
       "<Figure size 432x288 with 1 Axes>"
      ]
     },
     "metadata": {
      "needs_background": "light"
     },
     "output_type": "display_data"
    }
   ],
   "source": [
    "plt.imshow(diagonal_dataset.x[0][0].permute(1, 2, 0))"
   ]
  },
  {
   "cell_type": "code",
   "execution_count": null,
   "metadata": {},
   "outputs": [],
   "source": []
  }
 ],
 "metadata": {
  "kernelspec": {
   "display_name": "Python 3 (ipykernel)",
   "language": "python",
   "name": "python3"
  },
  "language_info": {
   "codemirror_mode": {
    "name": "ipython",
    "version": 3
   },
   "file_extension": ".py",
   "mimetype": "text/x-python",
   "name": "python",
   "nbconvert_exporter": "python",
   "pygments_lexer": "ipython3",
   "version": "3.10.6"
  }
 },
 "nbformat": 4,
 "nbformat_minor": 1
}
