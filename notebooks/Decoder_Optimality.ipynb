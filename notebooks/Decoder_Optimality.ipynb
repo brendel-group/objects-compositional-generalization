{
 "cells": [
  {
   "cell_type": "code",
   "execution_count": 10,
   "metadata": {
    "is_executing": true
   },
   "outputs": [
    {
     "data": {
      "text/plain": [
       "<torch._C.Generator at 0x1bf1cb28270>"
      ]
     },
     "execution_count": 10,
     "metadata": {},
     "output_type": "execute_result"
    }
   ],
   "source": [
    "import sys\n",
    "\n",
    "sys.path.append(\"..\")\n",
    "\n",
    "import numpy as np\n",
    "import torch\n",
    "import random\n",
    "\n",
    "\n",
    "from src.datasets import data, utils, configs\n",
    "\n",
    "seed = 42\n",
    "random.seed(seed)\n",
    "np.random.seed(seed)\n",
    "torch.manual_seed(seed)"
   ]
  },
  {
   "cell_type": "code",
   "execution_count": 11,
   "metadata": {},
   "outputs": [
    {
     "name": "stderr",
     "output_type": "stream",
     "text": [
      "Generating images (sampling: diagonal): 100%|█████████████████████████████████████| 5000/5000 [00:36<00:00, 135.78it/s]\n"
     ]
    }
   ],
   "source": [
    "# Step 1: Create a diagonal dataset, to get valid latents\n",
    "n_samples = 5000\n",
    "n_slots = 2\n",
    "default_cfg = configs.SpriteWorldConfig()\n",
    "sample_mode = \"diagonal\"\n",
    "no_overlap = True\n",
    "delta = 0.125\n",
    "\n",
    "diagonal_dataset = data.SpriteWorldDataset(\n",
    "    n_samples,\n",
    "    n_slots,\n",
    "    default_cfg,\n",
    "    sample_mode=sample_mode,\n",
    "    no_overlap=no_overlap,\n",
    "    delta=delta,\n",
    ")"
   ]
  },
  {
   "cell_type": "code",
   "execution_count": 27,
   "metadata": {},
   "outputs": [],
   "source": [
    "# Step 2: Create a dataloader\n",
    "scale = torch.FloatTensor(\n",
    "    [rng.max - rng.min for rng in default_cfg.get_ranges().values()]\n",
    ").reshape(1, 1, -1)\n",
    "scale = torch.cat([scale[:, :, :-4], scale[:, :, -3:-2]], dim=-1)\n",
    "\n",
    "\n",
    "min_offset = torch.FloatTensor(\n",
    "    [rng.min for rng in default_cfg.get_ranges().values()]\n",
    ").reshape(1, 1, -1)\n",
    "min_offset = torch.cat([min_offset[:, :, :-4], min_offset[:, :, -3:-2]], dim=-1)\n",
    "\n",
    "batch_size = 128\n",
    "loader = torch.utils.data.DataLoader(\n",
    "    diagonal_dataset,\n",
    "    batch_size=batch_size,\n",
    "    shuffle=False,\n",
    "    collate_fn=lambda b: utils.collate_fn_normalizer(b, min_offset, scale),\n",
    ")"
   ]
  },
  {
   "cell_type": "code",
   "execution_count": 28,
   "metadata": {},
   "outputs": [
    {
     "name": "stderr",
     "output_type": "stream",
     "text": [
      "Generating images (sampling: diagonal): 100%|█████████████████████████████████████| 5000/5000 [00:35<00:00, 139.71it/s]\n"
     ]
    }
   ],
   "source": [
    "# Step 3: Make a permutation for every batch and create permuted dataset\n",
    "perms = []\n",
    "batch_len_accum = 0\n",
    "for _, true_latents in loader:\n",
    "    batch_len = true_latents.shape[0]\n",
    "    perm = torch.randperm(batch_len) + batch_len_accum\n",
    "    perms.append(perm)\n",
    "    batch_len_accum += batch_len\n",
    "\n",
    "perms_concated = torch.cat(perms)\n",
    "\n",
    "permuted_latents = diagonal_dataset.z[perms_concated]\n",
    "\n",
    "permuted_dataset = data.SpriteWorldDataset(\n",
    "    n_samples,\n",
    "    n_slots,\n",
    "    default_cfg,\n",
    "    sample_mode=sample_mode,\n",
    "    no_overlap=no_overlap,\n",
    "    delta=delta,\n",
    "    z=permuted_latents,\n",
    ")\n",
    "\n",
    "permuted_dataloader = torch.utils.data.DataLoader(\n",
    "    permuted_dataset,\n",
    "    batch_size=batch_size,\n",
    "    shuffle=False,\n",
    "    collate_fn=lambda b: utils.collate_fn_normalizer(b, min_offset, scale),\n",
    ")"
   ]
  },
  {
   "cell_type": "code",
   "execution_count": 30,
   "metadata": {},
   "outputs": [],
   "source": [
    "# Step 4: Load the model\n",
    "model = ...\n",
    "model.eval()"
   ]
  },
  {
   "cell_type": "code",
   "execution_count": null,
   "metadata": {},
   "outputs": [],
   "source": [
    "# Step 5: Get the latents for the original dataset and reshuffle them\n",
    "from src.metrics import hungarian_slots_loss\n",
    "\n",
    "latents = []\n",
    "with torch.no_grad():\n",
    "    for images, true_latents in loader:\n",
    "        output = model(images)\n",
    "        predicted_latents = output[\"predicted_latents\"]\n",
    "\n",
    "        _, indexes = hungarian_slots_loss(predicted_latents, true_latents)\n",
    "\n",
    "        indexes = torch.LongTensor(indexes)\n",
    "        predicted_latents = predicted_latents.detach().cpu()\n",
    "        true_latents = true_latents.detach().cpu()\n",
    "\n",
    "        # shuffling predicted latents to match true latents\n",
    "        predicted_latents = predicted_latents.gather(\n",
    "            1,\n",
    "            indexes[:, :, 1].unsqueeze(-1).expand(-1, -1, true_latents.shape[-1]),\n",
    "        )\n",
    "        latents.append(predicted_latents)\n",
    "\n",
    "latents = torch.cat(latents)\n",
    "# after this point we had z_hat matched to original, not permuted z"
   ]
  },
  {
   "cell_type": "code",
   "execution_count": null,
   "outputs": [],
   "source": [
    "# Step 6: Permute predicted latents, and compare with permuted dataset\n",
    "latents = latents[perms_concated]\n",
    "mse = 0\n",
    "batch_size_accum = 0\n",
    "with torch.no_grad():\n",
    "    for permuted_images, permuted_latents in permuted_dataloader:\n",
    "        imagined_images = model.decoder(\n",
    "            latents[batch_size_accum : batch_size_accum + len(images)]\n",
    "        )\n",
    "\n",
    "        batch_size_accum += len(permuted_images)\n",
    "        # compare reconstructed images with imagined images\n",
    "\n",
    "        mse += ((images - imagined_images) ** 2).sum() / len(permuted_dataset)"
   ],
   "metadata": {
    "collapsed": false
   }
  }
 ],
 "metadata": {
  "kernelspec": {
   "display_name": "Python 3 (ipykernel)",
   "language": "python",
   "name": "python3"
  },
  "language_info": {
   "codemirror_mode": {
    "name": "ipython",
    "version": 3
   },
   "file_extension": ".py",
   "mimetype": "text/x-python",
   "name": "python",
   "nbconvert_exporter": "python",
   "pygments_lexer": "ipython3",
   "version": "3.10.6"
  }
 },
 "nbformat": 4,
 "nbformat_minor": 1
}
