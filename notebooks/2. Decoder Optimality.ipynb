{
 "cells": [
  {
   "cell_type": "code",
   "execution_count": 1,
   "id": "5a639411",
   "metadata": {},
   "outputs": [],
   "source": [
    "%load_ext autoreload\n",
    "%autoreload 2\n",
    "\n",
    "import sys\n",
    "\n",
    "sys.path.append(\"..\")\n",
    "import numpy as np\n",
    "import torch\n",
    "import random\n",
    "from tqdm import tqdm\n",
    "\n",
    "import matplotlib.pyplot as plt\n",
    "\n",
    "from src.datasets import data, utils, configs\n",
    "from src.datasets.utils import dump_generated_dataset, PreGeneratedDataset\n",
    "from src.models import base_models, slot_attention\n",
    "import os\n",
    "from src import metrics\n",
    "\n",
    "from torchvision import transforms as transforms\n",
    "\n",
    "seed = 43\n",
    "random.seed(seed)\n",
    "np.random.seed(seed)\n",
    "torch.manual_seed(seed)\n",
    "\n",
    "from utils.decoder_evaluation import calculate_decoder_optimality, get_left_right_datasets, scale, min_offset\n",
    "from utils.heatmap_utils import cast_models_to_device, evaluate_function_over_seeds, load_model_and_hook\n",
    "import pickle\n",
    "\n",
    "import seaborn as sns"
   ]
  },
  {
   "cell_type": "code",
   "execution_count": 2,
   "id": "5f4a11b7",
   "metadata": {},
   "outputs": [],
   "source": [
    "# Step 1: Creating color traversing\n",
    "\n",
    "n_steps = 100\n",
    "\n",
    "c_0_range = torch.linspace(0.05, 0.95, n_steps)\n",
    "c_0_combinations = torch.cartesian_prod(c_0_range, c_0_range)\n",
    "\n",
    "distances = torch.sqrt((c_0_combinations[:, 0] - c_0_combinations[:, 1]) ** 2)\n",
    "\n",
    "id_c_0_combinations = c_0_combinations[distances <= 0.125 * 2]\n",
    "ood_c_0_combinations = c_0_combinations[distances > 0.125 * 2]\n"
   ]
  },
  {
   "cell_type": "code",
   "execution_count": 3,
   "id": "55939964",
   "metadata": {},
   "outputs": [],
   "source": [
    "# # Step 2: Generate initial ID and OOD\n",
    "# cfg = configs.SpriteWorldConfig()\n",
    "\n",
    "# initial_id_latents = torch.load(\"D:/mnt/qb/heatmap_dataset/initial_id_latents.pt\")\n",
    "# initial_id_latents = initial_id_latents[:len(id_c_0_combinations)]\n",
    "\n",
    "\n",
    "\n",
    "# initial_ood_latents = torch.load(\"D:/mnt/qb/heatmap_dataset/initial_ood_latents.pt\")\n",
    "# initial_ood_latents = initial_ood_latents[:len(ood_c_0_combinations)]"
   ]
  },
  {
   "cell_type": "code",
   "execution_count": 4,
   "id": "ef4025ad",
   "metadata": {},
   "outputs": [
    {
     "name": "stderr",
     "output_type": "stream",
     "text": [
      "Generating images (sampling: skip): 100%|█████████████████████████████████████████| 4744/4744 [00:42<00:00, 112.12it/s]\n",
      "4744it [00:00, 7821.10it/s]\n",
      "Generating images (sampling: skip): 100%|█████████████████████████████████████████| 4744/4744 [00:40<00:00, 118.44it/s]\n",
      "4744it [00:00, 11139.44it/s]\n",
      "Generating images (sampling: skip): 100%|█████████████████████████████████████████| 4744/4744 [00:42<00:00, 111.25it/s]\n",
      "4744it [00:00, 7410.50it/s] \n",
      "Generating images (sampling: skip): 100%|█████████████████████████████████████████| 4744/4744 [00:41<00:00, 115.53it/s]\n",
      "4744it [00:00, 10026.93it/s]\n",
      "Generating images (sampling: skip): 100%|█████████████████████████████████████████| 4744/4744 [00:39<00:00, 121.63it/s]\n",
      "4744it [00:00, 11360.71it/s]\n",
      "Generating images (sampling: skip): 100%|█████████████████████████████████████████| 5256/5256 [00:42<00:00, 122.70it/s]\n",
      "5256it [00:00, 10001.75it/s]\n",
      "Generating images (sampling: skip): 100%|█████████████████████████████████████████| 5256/5256 [00:46<00:00, 112.07it/s]\n",
      "5256it [00:00, 8808.61it/s]\n",
      "Generating images (sampling: skip): 100%|█████████████████████████████████████████| 5256/5256 [00:43<00:00, 120.98it/s]\n",
      "5256it [00:00, 10889.37it/s]\n",
      "Generating images (sampling: skip): 100%|█████████████████████████████████████████| 5256/5256 [00:42<00:00, 123.30it/s]\n",
      "5256it [00:00, 10018.82it/s]\n",
      "Generating images (sampling: skip): 100%|█████████████████████████████████████████| 5256/5256 [00:42<00:00, 122.58it/s]\n",
      "5256it [00:00, 10314.20it/s]\n"
     ]
    }
   ],
   "source": [
    "# # # Step 3: Generate versions\n",
    "# def create_dataset_versions(latents, color_replacement, save_folder, n_versions=5):\n",
    "#     for i in range(5):\n",
    "#         # copy latents\n",
    "#         local_copy = latents.clone()\n",
    "        \n",
    "#         # create permutation\n",
    "#         perm = torch.randperm(local_copy.size(0))\n",
    "#         shuffled_local_copy = local_copy[perm]\n",
    "        \n",
    "#         # replace color dimension\n",
    "#         shuffled_local_copy[:, :, -3] = color_replacement\n",
    "            \n",
    "#         # generate data\n",
    "#         dataset = data.SpriteWorldDataset(\n",
    "#                     len(latents),\n",
    "#                     2,\n",
    "#                     cfg,\n",
    "#                     sample_mode=\"skip\",\n",
    "#                     no_overlap=True,\n",
    "#                     delta=0.125,\n",
    "#                     transform=transforms.Compose([transforms.ToPILImage(), transforms.ToTensor()]),\n",
    "#                     z=shuffled_local_copy\n",
    "#         )\n",
    "        \n",
    "#         os.makedirs(f\"{save_folder}/dataset_{i}/\", exist_ok=True)\n",
    "#         # dump data\n",
    "#         dump_generated_dataset(dataset, f\"{save_folder}/dataset_{i}/\")\n",
    "        \n",
    "# create_dataset_versions(initial_id_latents, id_c_0_combinations, \"D:/mnt/qb/heatmap_dataset/id_data/\")\n",
    "# create_dataset_versions(initial_ood_latents, ood_c_0_combinations, \"D:/mnt/qb/heatmap_dataset/ood_data/\")"
   ]
  },
  {
   "cell_type": "code",
   "execution_count": 5,
   "id": "481a7c08",
   "metadata": {},
   "outputs": [
    {
     "name": "stderr",
     "output_type": "stream",
     "text": [
      "Generating images (sampling: skip): 100%|█████████████████████████████████████████| 4744/4744 [00:39<00:00, 118.76it/s]\n",
      "Generating images (sampling: skip): 100%|█████████████████████████████████████████| 4744/4744 [00:39<00:00, 120.97it/s]\n",
      "Generating images (sampling: skip): 100%|█████████████████████████████████████████| 5256/5256 [00:43<00:00, 121.25it/s]\n",
      "Generating images (sampling: skip): 100%|█████████████████████████████████████████| 5256/5256 [00:42<00:00, 123.24it/s]\n",
      "4744it [00:00, 10309.95it/s]\n",
      "4744it [00:00, 10558.99it/s]\n",
      "5256it [00:00, 10647.93it/s]\n",
      "5256it [00:00, 10364.22it/s]\n",
      "Generating images (sampling: skip): 100%|█████████████████████████████████████████| 4744/4744 [00:38<00:00, 122.62it/s]\n",
      "Generating images (sampling: skip): 100%|█████████████████████████████████████████| 4744/4744 [00:38<00:00, 124.61it/s]\n",
      "Generating images (sampling: skip): 100%|█████████████████████████████████████████| 5256/5256 [00:42<00:00, 123.75it/s]\n",
      "Generating images (sampling: skip): 100%|█████████████████████████████████████████| 5256/5256 [00:42<00:00, 123.81it/s]\n",
      "4744it [00:00, 9345.69it/s]\n",
      "4744it [00:00, 10567.54it/s]\n",
      "5256it [00:00, 9602.98it/s] \n",
      "5256it [00:00, 11636.83it/s]\n",
      "Generating images (sampling: skip): 100%|█████████████████████████████████████████| 4744/4744 [00:39<00:00, 119.73it/s]\n",
      "Generating images (sampling: skip): 100%|█████████████████████████████████████████| 4744/4744 [00:40<00:00, 118.22it/s]\n",
      "Generating images (sampling: skip): 100%|█████████████████████████████████████████| 5256/5256 [00:42<00:00, 124.23it/s]\n",
      "Generating images (sampling: skip): 100%|█████████████████████████████████████████| 5256/5256 [00:42<00:00, 125.02it/s]\n",
      "4744it [00:00, 11170.91it/s]\n",
      "4744it [00:00, 10463.47it/s]\n",
      "5256it [00:00, 11145.23it/s]\n",
      "5256it [00:00, 11217.00it/s]\n",
      "Generating images (sampling: skip): 100%|█████████████████████████████████████████| 4744/4744 [00:37<00:00, 125.75it/s]\n",
      "Generating images (sampling: skip): 100%|█████████████████████████████████████████| 4744/4744 [00:37<00:00, 125.62it/s]\n",
      "Generating images (sampling: skip): 100%|█████████████████████████████████████████| 5256/5256 [00:41<00:00, 125.43it/s]\n",
      "Generating images (sampling: skip): 100%|█████████████████████████████████████████| 5256/5256 [00:41<00:00, 125.37it/s]\n",
      "4744it [00:00, 10273.05it/s]\n",
      "4744it [00:00, 10049.00it/s]\n",
      "5256it [00:00, 11262.39it/s]\n",
      "5256it [00:00, 11756.32it/s]\n",
      "Generating images (sampling: skip): 100%|█████████████████████████████████████████| 4744/4744 [00:37<00:00, 124.86it/s]\n",
      "Generating images (sampling: skip): 100%|█████████████████████████████████████████| 4744/4744 [00:37<00:00, 125.05it/s]\n",
      "Generating images (sampling: skip): 100%|█████████████████████████████████████████| 5256/5256 [00:41<00:00, 125.44it/s]\n",
      "Generating images (sampling: skip): 100%|█████████████████████████████████████████| 5256/5256 [00:42<00:00, 122.27it/s]\n",
      "4744it [00:00, 11799.09it/s]\n",
      "4744it [00:00, 11623.23it/s]\n",
      "5256it [00:00, 11301.83it/s]\n",
      "5256it [00:00, 11901.77it/s]\n"
     ]
    }
   ],
   "source": [
    "# # # Step 4: Dump left and right dataset\n",
    "# n_versions = 5\n",
    "# save_folder_id = \"D:/mnt/qb/heatmap_dataset/id_data\"\n",
    "# save_folder_ood = \"D:/mnt/qb/heatmap_dataset/ood_data\"\n",
    "# for i in range(n_versions):\n",
    "#     ood_data = PreGeneratedDataset(f\"{save_folder_ood}/dataset_{i}\")\n",
    "#     id_data = PreGeneratedDataset(f\"{save_folder_id}/dataset_{i}\")\n",
    "\n",
    "#     id_diagonal_dataset_left, id_diagonal_dataset_right = get_left_right_datasets(id_data)\n",
    "#     ood_diagonal_dataset_left, ood_diagonal_dataset_right = get_left_right_datasets(ood_data)\n",
    "\n",
    "#     dump_generated_dataset(id_diagonal_dataset_left, f\"{save_folder_id}/dataset_{i}/left/\")\n",
    "#     dump_generated_dataset(id_diagonal_dataset_right, f\"{save_folder_id}/dataset_{i}/right/\")\n",
    "\n",
    "#     dump_generated_dataset(ood_diagonal_dataset_left, f\"{save_folder_ood}/dataset_{i}/left/\")\n",
    "#     dump_generated_dataset(ood_diagonal_dataset_right, f\"{save_folder_ood}/dataset_{i}/right/\")\n"
   ]
  },
  {
   "cell_type": "code",
   "execution_count": 2,
   "id": "530b6dbe",
   "metadata": {},
   "outputs": [],
   "source": [
    "# Step 5: Load some version and define functions\n",
    "temp_ood_data = PreGeneratedDataset(\"D:/mnt/qb/heatmap_dataset/ood_data/dataset_0\")\n",
    "temp_id_data = PreGeneratedDataset(\"D:/mnt/qb/heatmap_dataset/id_data/dataset_0\")"
   ]
  },
  {
   "cell_type": "code",
   "execution_count": 3,
   "id": "b669c31f",
   "metadata": {},
   "outputs": [],
   "source": [
    "def eval_one_type_of_models(model_name: str, path_to_checkpoint: str, dataset, \n",
    "                            diagonal_dataset_left, diagonal_dataset_right, seeds=[43]):\n",
    "    paths_and_names = []\n",
    "    for name in os.listdir(path_to_checkpoint):\n",
    "        if name.endswith(\".pt\"):\n",
    "            paths_and_names.append((os.path.join(path_to_checkpoint, name), model_name))\n",
    "\n",
    "\n",
    "    models = []\n",
    "    hooks = []\n",
    "    for (path, name) in paths_and_names:\n",
    "        model, decoder_hook= load_model_and_hook(path, name)\n",
    "        models.append(model)\n",
    "        hooks.append(decoder_hook)\n",
    "\n",
    "    cast_models_to_device(models)    \n",
    "\n",
    "\n",
    "    output = evaluate_function_over_seeds(calculate_decoder_optimality, \n",
    "                                             seeds, dataset, \n",
    "                                             diagonal_dataset_left, diagonal_dataset_right, \n",
    "                                             models, hooks, device=\"cuda\")\n",
    "    return output"
   ]
  },
  {
   "cell_type": "code",
   "execution_count": 4,
   "id": "6b809de2",
   "metadata": {},
   "outputs": [],
   "source": [
    "def evaluate_model_over_miltiple_sets(n_versions, model_name, model_paths):\n",
    "    \n",
    "    ids = []\n",
    "    oods = []\n",
    "    for i in range(n_versions):\n",
    "        try:\n",
    "            save_folder_id = f\"D:/mnt/qb/heatmap_dataset/id_data/dataset_{i}\"\n",
    "            save_folder_ood = f\"D:/mnt/qb/heatmap_dataset/ood_data/dataset_{i}\"\n",
    "\n",
    "            ood_diagonal_dataset_left = PreGeneratedDataset(f\"{save_folder_ood}/left\")\n",
    "            ood_diagonal_dataset_right = PreGeneratedDataset(f\"{save_folder_ood}/right\")\n",
    "\n",
    "            id_diagonal_dataset_left = PreGeneratedDataset(f\"{save_folder_id}/left\")\n",
    "            id_diagonal_dataset_right = PreGeneratedDataset(f\"{save_folder_id}/right\")\n",
    "            \n",
    "            id_data = PreGeneratedDataset(save_folder_id)\n",
    "            ood_data = PreGeneratedDataset(save_folder_ood)\n",
    "            \n",
    "        except:\n",
    "            continue\n",
    "        id_out = eval_one_type_of_models(model_name, model_paths, \n",
    "                                         id_data, id_diagonal_dataset_left, id_diagonal_dataset_right)\n",
    "        ood_out = eval_one_type_of_models(model_name, model_paths, \n",
    "                                        ood_data, ood_diagonal_dataset_left, ood_diagonal_dataset_right)\n",
    "        oods.extend(ood_out)\n",
    "        ids.extend(id_out)\n",
    "        \n",
    "    return ids, oods"
   ]
  },
  {
   "cell_type": "code",
   "execution_count": 10,
   "id": "55c1540c",
   "metadata": {},
   "outputs": [
    {
     "name": "stderr",
     "output_type": "stream",
     "text": [
      "5it [00:39,  8.00s/it]\n",
      "5it [00:35,  7.10s/it]\n",
      "5it [00:31,  6.33s/it]\n",
      "5it [00:35,  7.00s/it]\n",
      "5it [00:31,  6.37s/it]\n",
      "5it [00:34,  6.93s/it]\n",
      "5it [00:31,  6.31s/it]\n",
      "5it [00:35,  7.00s/it]\n",
      "5it [00:31,  6.33s/it]\n",
      "5it [00:34,  6.97s/it]\n"
     ]
    }
   ],
   "source": [
    "# vanilla slot_mlp_additive\n",
    "paths = \"D:/git_projects/bethgelab/lab_rotation/object_centric_ood/notebooks/models/SlotMLPAdditive_2obj_300_vanilla_no_overlaps\"\n",
    "\n",
    "vanilla_slotmlpadditive = evaluate_model_over_miltiple_sets(5, \"SlotMLPAdditive\", paths)"
   ]
  },
  {
   "cell_type": "code",
   "execution_count": 11,
   "id": "f3863c64",
   "metadata": {},
   "outputs": [],
   "source": [
    "with open('plots/vanilla_slotmlpadditive.pkl', 'wb') as f:\n",
    "    pickle.dump(vanilla_slotmlpadditive, f)"
   ]
  },
  {
   "cell_type": "code",
   "execution_count": 12,
   "id": "39634c0d",
   "metadata": {},
   "outputs": [
    {
     "name": "stderr",
     "output_type": "stream",
     "text": [
      "5it [00:31,  6.34s/it]\n",
      "5it [00:34,  6.96s/it]\n",
      "5it [00:31,  6.37s/it]\n",
      "5it [00:34,  6.96s/it]\n",
      "5it [00:31,  6.32s/it]\n",
      "5it [00:34,  6.94s/it]\n",
      "5it [00:31,  6.31s/it]\n",
      "5it [00:34,  6.95s/it]\n",
      "5it [00:31,  6.36s/it]\n",
      "5it [00:34,  6.98s/it]\n"
     ]
    }
   ],
   "source": [
    "# enccons slot_mlp_additive\n",
    "paths = \"D:/git_projects/bethgelab/lab_rotation/object_centric_ood/notebooks/models/SlotMLPAdditive_2obj_300_enccons_no_overlaps\"\n",
    "\n",
    "enccons_slotmlpadditive = evaluate_model_over_miltiple_sets(5, \"SlotMLPAdditive\", paths)"
   ]
  },
  {
   "cell_type": "code",
   "execution_count": 13,
   "id": "264cbda2",
   "metadata": {},
   "outputs": [],
   "source": [
    "with open('plots/enccons_slotmlpadditive.pkl', 'wb') as f:\n",
    "    pickle.dump(enccons_slotmlpadditive, f)"
   ]
  },
  {
   "cell_type": "code",
   "execution_count": 17,
   "id": "41846a2d",
   "metadata": {},
   "outputs": [
    {
     "name": "stderr",
     "output_type": "stream",
     "text": [
      "8it [05:04, 38.03s/it]\n",
      "8it [06:03, 45.40s/it]\n",
      "8it [05:19, 39.90s/it]\n",
      "8it [06:23, 47.92s/it]\n",
      "8it [05:22, 40.28s/it]\n",
      "8it [06:29, 48.64s/it]\n",
      "8it [05:20, 40.05s/it]\n",
      "8it [06:23, 47.92s/it]\n",
      "8it [05:25, 40.69s/it]\n",
      "8it [06:40, 50.08s/it]\n"
     ]
    }
   ],
   "source": [
    "paths = \"D:/git_projects/bethgelab/lab_rotation/object_centric_ood/notebooks/models/SlotAttention_2obj_nooverlaps_nomasks_nosampling_enccons_600\"\n",
    "\n",
    "enccons_slotattention = evaluate_model_over_miltiple_sets(5, \"SlotAttention\", paths)"
   ]
  },
  {
   "cell_type": "code",
   "execution_count": 18,
   "id": "ce3948f8",
   "metadata": {},
   "outputs": [],
   "source": [
    "with open('plots/enccons_slotattention.pkl', 'wb') as f:\n",
    "    pickle.dump(enccons_slotattention, f)"
   ]
  },
  {
   "cell_type": "code",
   "execution_count": 19,
   "id": "809bdc9c",
   "metadata": {},
   "outputs": [
    {
     "name": "stderr",
     "output_type": "stream",
     "text": [
      "8it [05:33, 41.65s/it]\n",
      "8it [07:00, 52.60s/it]\n",
      "8it [05:38, 42.28s/it]\n",
      "8it [06:55, 52.00s/it]\n",
      "8it [13:04, 98.09s/it] \n",
      "8it [08:44, 65.58s/it] \n",
      "8it [04:29, 33.73s/it]\n",
      "8it [05:11, 38.94s/it]\n",
      "8it [04:25, 33.21s/it]\n",
      "8it [05:06, 38.31s/it]\n"
     ]
    }
   ],
   "source": [
    "paths = \"D:/git_projects/bethgelab/lab_rotation/object_centric_ood/notebooks/models/SlotAttention_2obj_nooverlaps_nomasks_nosampling_vanilla_600\"\n",
    "\n",
    "vanilla_fixed_slotattention = evaluate_model_over_miltiple_sets(5, \"SlotAttention\", paths)"
   ]
  },
  {
   "cell_type": "code",
   "execution_count": 20,
   "id": "033034bd",
   "metadata": {},
   "outputs": [],
   "source": [
    "with open('plots/vanilla_fixed_slotattention.pkl', 'wb') as f:\n",
    "    pickle.dump(vanilla_fixed_slotattention, f)"
   ]
  },
  {
   "cell_type": "code",
   "execution_count": 14,
   "id": "1946585f",
   "metadata": {},
   "outputs": [
    {
     "name": "stderr",
     "output_type": "stream",
     "text": [
      "5it [03:05, 37.01s/it]\n",
      "5it [03:38, 43.62s/it]\n",
      "5it [03:10, 38.15s/it]\n",
      "5it [03:44, 44.89s/it]\n",
      "5it [03:11, 38.32s/it]\n",
      "5it [03:48, 45.70s/it]\n",
      "5it [03:11, 38.28s/it]\n",
      "5it [03:48, 45.72s/it]\n",
      "5it [03:11, 38.21s/it]\n",
      "5it [03:51, 46.21s/it]\n"
     ]
    }
   ],
   "source": [
    "paths = \"D:/git_projects/bethgelab/lab_rotation/object_centric_ood/notebooks/models/SlotAttention_2obj_400_vanilla_no_overlaps\"\n",
    "\n",
    "vanilla_vanilla_slotattention = evaluate_model_over_miltiple_sets(5, \"SlotAttention\", paths)"
   ]
  },
  {
   "cell_type": "code",
   "execution_count": 15,
   "id": "366b3384",
   "metadata": {},
   "outputs": [],
   "source": [
    "with open('plots/vanilla_vanilla_slotattention.pkl', 'wb') as f:\n",
    "    pickle.dump(vanilla_vanilla_slotattention, f)"
   ]
  },
  {
   "cell_type": "code",
   "execution_count": null,
   "id": "68fc59d8",
   "metadata": {},
   "outputs": [
    {
     "name": "stderr",
     "output_type": "stream",
     "text": [
      "5it [03:11, 38.36s/it]\n",
      "5it [03:42, 44.50s/it]\n",
      "5it [03:16, 39.29s/it]\n",
      "5it [04:05, 49.16s/it]\n",
      "5it [03:19, 39.89s/it]\n",
      "5it [03:39, 43.84s/it]\n",
      "5it [02:49, 33.85s/it]\n",
      "5it [03:15, 39.18s/it]\n",
      "5it [02:42, 32.48s/it]\n",
      "4it [02:31, 37.81s/it]"
     ]
    }
   ],
   "source": [
    "paths = \"D:/git_projects/bethgelab/lab_rotation/object_centric_ood/notebooks/models/SlotAttention_2obj_softmax_nosigmoid_nosampling_vanilla_400\"\n",
    "\n",
    "nosampling_softmax_slotattention = evaluate_model_over_miltiple_sets(5, \"SlotAttention\", paths)"
   ]
  },
  {
   "cell_type": "code",
   "execution_count": null,
   "id": "819370b3",
   "metadata": {},
   "outputs": [],
   "source": [
    "with open('plots/nosampling_softmax_slotattention.pkl', 'wb') as f:\n",
    "    pickle.dump(nosampling_softmax_slotattention, f)"
   ]
  },
  {
   "cell_type": "code",
   "execution_count": 15,
   "id": "3612f968",
   "metadata": {},
   "outputs": [],
   "source": [
    "def calculate_mse(performances, key, clip=1.0):\n",
    "    accum_mse = 0\n",
    "    for i in range(len(performances)):\n",
    "        accum_mse += np.clip(performances[i][key], 0, np.quantile(performances[i][key], clip))\n",
    "    \n",
    "    \n",
    "    return accum_mse / len(performances)"
   ]
  },
  {
   "cell_type": "code",
   "execution_count": 13,
   "id": "5a16d725",
   "metadata": {},
   "outputs": [],
   "source": [
    "x_id = temp_id_data.latents[:, 0, -1]\n",
    "y_id = temp_id_data.latents[:, 1, -1]\n",
    "\n",
    "x_ood = temp_ood_data.latents[:, 0, -1]\n",
    "y_ood = temp_ood_data.latents[:, 1, -1]"
   ]
  },
  {
   "cell_type": "code",
   "execution_count": 16,
   "id": "56c102ff",
   "metadata": {},
   "outputs": [
    {
     "data": {
      "image/png": "[encoded data removed]",
      "text/plain": [
       "<Figure size 720x576 with 2 Axes>"
      ]
     },
     "metadata": {
      "needs_background": "light"
     },
     "output_type": "display_data"
    }
   ],
   "source": [
    "plot_heatmap([\n",
    "    (\n",
    "        x_id, y_id, calculate_mse(vanilla_slotmlpadditive[0], \"mse_model\"), False\n",
    "    ),\n",
    "    (\n",
    "        x_ood, y_ood, calculate_mse(vanilla_slotmlpadditive[1], \"mse_model\"), False\n",
    "    )\n",
    "             ], \n",
    "    calculate_mse(vanilla_slotmlpadditive[1], \"mse_model\").max(),\n",
    "    title=\"SlotMLPAdditive, vanilla\", cmap=\"Purples\"\n",
    ")"
   ]
  },
  {
   "cell_type": "code",
   "execution_count": 21,
   "id": "daa599b0",
   "metadata": {},
   "outputs": [
    {
     "ename": "NameError",
     "evalue": "name 'vanilla_vanilla_slotattention' is not defined",
     "output_type": "error",
     "traceback": [
      "\u001b[1;31m---------------------------------------------------------------------------\u001b[0m",
      "\u001b[1;31mNameError\u001b[0m                                 Traceback (most recent call last)",
      "Cell \u001b[1;32mIn[21], line 3\u001b[0m\n\u001b[0;32m      1\u001b[0m plot_heatmap([\n\u001b[0;32m      2\u001b[0m     (\n\u001b[1;32m----> 3\u001b[0m         x_id, y_id, calculate_mse(\u001b[43mvanilla_vanilla_slotattention\u001b[49m[\u001b[38;5;241m0\u001b[39m], \u001b[38;5;124m\"\u001b[39m\u001b[38;5;124mmse_decoder\u001b[39m\u001b[38;5;124m\"\u001b[39m), \u001b[38;5;28;01mFalse\u001b[39;00m\n\u001b[0;32m      4\u001b[0m     ),\n\u001b[0;32m      5\u001b[0m     (\n\u001b[0;32m      6\u001b[0m         x_ood, y_ood, calculate_mse(vanilla_vanilla_slotattention[\u001b[38;5;241m1\u001b[39m], \u001b[38;5;124m\"\u001b[39m\u001b[38;5;124mmse_decoder\u001b[39m\u001b[38;5;124m\"\u001b[39m), \u001b[38;5;28;01mFalse\u001b[39;00m\n\u001b[0;32m      7\u001b[0m     )\n\u001b[0;32m      8\u001b[0m              ], \n\u001b[0;32m      9\u001b[0m     calculate_mse(vanilla_vanilla_slotattention[\u001b[38;5;241m1\u001b[39m], \u001b[38;5;124m\"\u001b[39m\u001b[38;5;124mmse_decoder\u001b[39m\u001b[38;5;124m\"\u001b[39m)\u001b[38;5;241m.\u001b[39mmax(),\n\u001b[0;32m     10\u001b[0m     title\u001b[38;5;241m=\u001b[39m\u001b[38;5;124m\"\u001b[39m\u001b[38;5;124mSlotAttention, vanilla decoder\u001b[39m\u001b[38;5;124m\"\u001b[39m, cmap\u001b[38;5;241m=\u001b[39m\u001b[38;5;124m\"\u001b[39m\u001b[38;5;124mPurples\u001b[39m\u001b[38;5;124m\"\u001b[39m\n\u001b[0;32m     11\u001b[0m )\n",
      "\u001b[1;31mNameError\u001b[0m: name 'vanilla_vanilla_slotattention' is not defined"
     ]
    }
   ],
   "source": [
    "plot_heatmap([\n",
    "    (\n",
    "        x_id, y_id, calculate_mse(vanilla_vanilla_slotattention[0], \"mse_decoder\"), False\n",
    "    ),\n",
    "    (\n",
    "        x_ood, y_ood, calculate_mse(vanilla_vanilla_slotattention[1], \"mse_decoder\"), False\n",
    "    )\n",
    "             ], \n",
    "    calculate_mse(vanilla_vanilla_slotattention[1], \"mse_decoder\").max(),\n",
    "    title=\"SlotAttention, vanilla decoder\", cmap=\"Purples\"\n",
    ")"
   ]
  },
  {
   "cell_type": "code",
   "execution_count": 22,
   "id": "840dc66e",
   "metadata": {},
   "outputs": [
    {
     "ename": "NameError",
     "evalue": "name 'vanilla_vanilla_slotattention' is not defined",
     "output_type": "error",
     "traceback": [
      "\u001b[1;31m---------------------------------------------------------------------------\u001b[0m",
      "\u001b[1;31mNameError\u001b[0m                                 Traceback (most recent call last)",
      "Cell \u001b[1;32mIn[22], line 9\u001b[0m\n\u001b[0;32m      1\u001b[0m plot_heatmap([\n\u001b[0;32m      2\u001b[0m     (\n\u001b[0;32m      3\u001b[0m         x_id, y_id, calculate_mse(vanilla_fixed_slotattention[\u001b[38;5;241m0\u001b[39m], \u001b[38;5;124m\"\u001b[39m\u001b[38;5;124mmse_decoder\u001b[39m\u001b[38;5;124m\"\u001b[39m), \u001b[38;5;28;01mFalse\u001b[39;00m\n\u001b[0;32m      4\u001b[0m     ),\n\u001b[0;32m      5\u001b[0m     (\n\u001b[0;32m      6\u001b[0m         x_ood, y_ood, calculate_mse(vanilla_fixed_slotattention[\u001b[38;5;241m1\u001b[39m], \u001b[38;5;124m\"\u001b[39m\u001b[38;5;124mmse_decoder\u001b[39m\u001b[38;5;124m\"\u001b[39m), \u001b[38;5;28;01mFalse\u001b[39;00m\n\u001b[0;32m      7\u001b[0m     )\n\u001b[0;32m      8\u001b[0m              ], \n\u001b[1;32m----> 9\u001b[0m     calculate_mse(\u001b[43mvanilla_vanilla_slotattention\u001b[49m[\u001b[38;5;241m1\u001b[39m], \u001b[38;5;124m\"\u001b[39m\u001b[38;5;124mmse_decoder\u001b[39m\u001b[38;5;124m\"\u001b[39m)\u001b[38;5;241m.\u001b[39mmax(),\n\u001b[0;32m     10\u001b[0m     title\u001b[38;5;241m=\u001b[39m\u001b[38;5;124m\"\u001b[39m\u001b[38;5;124mSlotAttention, fixed decoder\u001b[39m\u001b[38;5;124m\"\u001b[39m, cmap\u001b[38;5;241m=\u001b[39m\u001b[38;5;124m\"\u001b[39m\u001b[38;5;124mPurples\u001b[39m\u001b[38;5;124m\"\u001b[39m\n\u001b[0;32m     11\u001b[0m )\n",
      "\u001b[1;31mNameError\u001b[0m: name 'vanilla_vanilla_slotattention' is not defined"
     ]
    }
   ],
   "source": [
    "plot_heatmap([\n",
    "    (\n",
    "        x_id, y_id, calculate_mse(vanilla_fixed_slotattention[0], \"mse_decoder\"), False\n",
    "    ),\n",
    "    (\n",
    "        x_ood, y_ood, calculate_mse(vanilla_fixed_slotattention[1], \"mse_decoder\"), False\n",
    "    )\n",
    "             ], \n",
    "    calculate_mse(vanilla_vanilla_slotattention[1], \"mse_decoder\").max(),\n",
    "    title=\"SlotAttention, fixed decoder\", cmap=\"Purples\"\n",
    ")"
   ]
  },
  {
   "cell_type": "code",
   "execution_count": 23,
   "id": "c1e63505",
   "metadata": {},
   "outputs": [
    {
     "data": {
      "image/png": "[encoded data removed]",
      "text/plain": [
       "<Figure size 720x576 with 2 Axes>"
      ]
     },
     "metadata": {
      "needs_background": "light"
     },
     "output_type": "display_data"
    }
   ],
   "source": [
    "plot_heatmap([\n",
    "    (\n",
    "        x_id, y_id, calculate_mse(vanilla_slotmlpadditive[0], \"mse_decoder\"), False\n",
    "    ),\n",
    "    (\n",
    "        x_ood, y_ood, calculate_mse(vanilla_slotmlpadditive[1], \"mse_decoder\"), False\n",
    "    )\n",
    "             ], \n",
    "    calculate_mse(vanilla_slotmlpadditive[1], \"mse_model\").max(),\n",
    "    title=\"SlotMLPAdditive, vanilla, decoder\", cmap=\"Purples\"\n",
    ")"
   ]
  },
  {
   "cell_type": "code",
   "execution_count": 43,
   "id": "d9201b3e",
   "metadata": {},
   "outputs": [
    {
     "data": {
      "image/png": "[encoded data removed]",
      "text/plain": [
       "<Figure size 720x576 with 2 Axes>"
      ]
     },
     "metadata": {
      "needs_background": "light"
     },
     "output_type": "display_data"
    }
   ],
   "source": [
    "plot_heatmap([\n",
    "    (\n",
    "        x_id, y_id, calculate_mse(enccons_slotattention[0], \"mse_model\"), False\n",
    "    ),\n",
    "    (\n",
    "        x_ood, y_ood, calculate_mse(enccons_slotattention[1], \"mse_model\"), False\n",
    "    )\n",
    "             ], \n",
    "    calculate_mse(vanilla_fixed_slotattention[1], \"mse_model\").max(),\n",
    "    title=\"SlotAttnetion fixed, enccons\", cmap=\"Purples\"\n",
    ")"
   ]
  },
  {
   "cell_type": "code",
   "execution_count": 42,
   "id": "e1c06f2d",
   "metadata": {},
   "outputs": [
    {
     "data": {
      "image/png": "[encoded data removed]",
      "text/plain": [
       "<Figure size 720x576 with 2 Axes>"
      ]
     },
     "metadata": {
      "needs_background": "light"
     },
     "output_type": "display_data"
    }
   ],
   "source": [
    "plot_heatmap([\n",
    "    (\n",
    "        x_id, y_id, calculate_mse(vanilla_fixed_slotattention[0], \"mse_model\"), False\n",
    "    ),\n",
    "    (\n",
    "        x_ood, y_ood, calculate_mse(vanilla_fixed_slotattention[1], \"mse_model\"), False\n",
    "    )\n",
    "             ], \n",
    "    calculate_mse(vanilla_fixed_slotattention[1], \"mse_model\").max(),\n",
    "    title=\"SlotAttnetion fixed, vanilla\", cmap=\"Purples\"\n",
    ")"
   ]
  },
  {
   "cell_type": "code",
   "execution_count": 11,
   "id": "0c143d92",
   "metadata": {},
   "outputs": [],
   "source": [
    "def plot_heatmap(data_sets, max_value, cmap='Purples', num_bins=90, title=\"Empty\"):\n",
    "    # Initialize lists to store x, y, and loss values\n",
    "    x_all = []\n",
    "    y_all = []\n",
    "    loss_all = []\n",
    "\n",
    "    # Iterate over the data sets\n",
    "    for x, y, loss, exclude_region in data_sets:\n",
    "        # Exclude points where abs(x - y) <= 0.125 if exclude_region is True\n",
    "        if exclude_region:\n",
    "            mask = np.abs(x - y) > 0.125\n",
    "            x = x[mask]\n",
    "            y = y[mask]\n",
    "            loss = loss[mask]\n",
    "\n",
    "        x_all.append(x)\n",
    "        y_all.append(y)\n",
    "        loss_all.append(loss)\n",
    "\n",
    "    # Concatenate all x, y, and loss values\n",
    "    x = np.concatenate(x_all)\n",
    "    y = np.concatenate(y_all)\n",
    "    loss = np.concatenate(loss_all)\n",
    "\n",
    "    # Normalize the loss by the provided maximal value\n",
    "    loss = loss / max_value\n",
    "\n",
    "    # Define the bins for the x and y axes\n",
    "    x_bins = np.linspace(min(x), max(x), num_bins)\n",
    "    y_bins = np.linspace(min(y), max(y), num_bins)\n",
    "\n",
    "    # Create a grid of mean loss values for each bin\n",
    "    mean_loss_grid = np.zeros((num_bins - 1, num_bins - 1))\n",
    "    for i in range(num_bins - 1):\n",
    "        for j in range(num_bins - 1):\n",
    "            in_bin = (x >= x_bins[i]) & (x < x_bins[i + 1]) & (y >= y_bins[j]) & (y < y_bins[j + 1])\n",
    "            mean_loss_grid[j, i] = np.mean(loss[in_bin]) if np.any(in_bin) else np.nan\n",
    "    \n",
    "    fig, ax = plt.subplots(figsize=(10, 8))\n",
    "    # Create the heatmap\n",
    "    cax = ax.imshow(mean_loss_grid, origin='lower', cmap=cmap, vmin=0, vmax=1, aspect='equal')\n",
    "\n",
    "    # Remove ticks and axis labels\n",
    "    ax.set_xticks([])\n",
    "    ax.set_yticks([])\n",
    "#     ax.axis('off')\n",
    "\n",
    "    # Add bounding box around the heatmap\n",
    "    for spine in ax.spines.values():\n",
    "        spine.set_visible(True)\n",
    "        spine.set_color('gray')\n",
    "        spine.set_linewidth(0.5) \n",
    "\n",
    "\n",
    "\n",
    "    fig.colorbar(cax, label='Loss')\n",
    "    plt.title(title)\n",
    "    plt.show()\n"
   ]
  },
  {
   "cell_type": "code",
   "execution_count": 55,
   "id": "b03d3ae4",
   "metadata": {
    "collapsed": true
   },
   "outputs": [
    {
     "data": {
      "text/plain": [
       "tensor([[[0.6131, 0.3765, 0.0000, 0.0959, 0.0500],\n",
       "         [0.6247, 0.6128, 1.0000, 0.1224, 0.1773]],\n",
       "\n",
       "        [[0.8621, 0.7075, 0.0000, 0.1245, 0.0500],\n",
       "         [0.5553, 0.5225, 1.0000, 0.1139, 0.1864]],\n",
       "\n",
       "        [[0.6891, 0.2666, 1.0000, 0.1006, 0.0500],\n",
       "         [0.5142, 0.5170, 0.0000, 0.1092, 0.1955]],\n",
       "\n",
       "        ...,\n",
       "\n",
       "        [[0.4077, 0.6953, 0.0000, 0.0937, 0.9500],\n",
       "         [0.8450, 0.6073, 0.0000, 0.0960, 0.9318]],\n",
       "\n",
       "        [[0.7945, 0.5575, 1.0000, 0.1252, 0.9500],\n",
       "         [0.5209, 0.6336, 1.0000, 0.1251, 0.9409]],\n",
       "\n",
       "        [[0.3819, 0.3873, 0.0000, 0.1082, 0.9500],\n",
       "         [0.8087, 0.3198, 0.0000, 0.1109, 0.9500]]])"
      ]
     },
     "execution_count": 55,
     "metadata": {},
     "output_type": "execute_result"
    }
   ],
   "source": [
    "paths = \"D:/git_projects/bethgelab/lab_rotation/object_centric_ood/notebooks/models/SlotMLPAdditive_2obj_300_vanilla_no_overlaps\"\n",
    "paths_and_names = []\n",
    "for name in os.listdir(paths):\n",
    "    if name.endswith(\".pt\"):\n",
    "        paths_and_names.append((os.path.join(paths, name), \"SlotMLPAdditive\"))\n",
    "\n",
    "\n",
    "models = []\n",
    "hooks = []\n",
    "for (path, name) in paths_and_names:\n",
    "    model, decoder_hook= load_model_and_hook(path, name)\n",
    "    models.append(model)\n",
    "    hooks.append(decoder_hook)\n",
    "\n",
    "cast_models_to_device(models)    \n",
    "\n",
    "\n",
    "seeds = [43]\n",
    "SlotMLPAdditive_output = evaluate_function_over_seeds(calculate_decoder_optimality, \n",
    "                                                         seeds, traversed_dataset, \n",
    "                                                         diagonal_dataset_left, diagonal_dataset_right, \n",
    "                                                         models, hooks, device=\"cuda\")\n",
    "with open(\"models/slotmlpadditive_mse.pkl\", \"wb\") as f:\n",
    "    pickle.dump(SlotMLPAdditive_output, f)"
   ]
  },
  {
   "cell_type": "code",
   "execution_count": 25,
   "id": "c5bacb75",
   "metadata": {},
   "outputs": [
    {
     "data": {
      "text/plain": [
       "tensor([[[0.6274, 0.2786, 1.0000,  ..., 0.5644, 1.0000, 1.0000],\n",
       "         [0.1688, 0.2812, 1.0000,  ..., 0.5575, 1.0000, 1.0000]],\n",
       "\n",
       "        [[0.6826, 0.5678, 0.0000,  ..., 0.5101, 1.0000, 1.0000],\n",
       "         [0.1994, 0.5209, 0.0000,  ..., 0.3843, 1.0000, 1.0000]],\n",
       "\n",
       "        [[0.7012, 0.5609, 0.0000,  ..., 0.8419, 1.0000, 1.0000],\n",
       "         [0.2112, 0.5390, 0.0000,  ..., 0.8852, 1.0000, 1.0000]],\n",
       "\n",
       "        ...,\n",
       "\n",
       "        [[0.2531, 0.4842, 0.0000,  ..., 0.2558, 1.0000, 1.0000],\n",
       "         [0.5236, 0.4025, 0.0000,  ..., 0.2089, 1.0000, 1.0000]],\n",
       "\n",
       "        [[0.5045, 0.6096, 0.0000,  ..., 0.1638, 1.0000, 1.0000],\n",
       "         [0.1162, 0.6211, 0.0000,  ..., 0.3113, 1.0000, 1.0000]],\n",
       "\n",
       "        [[0.6320, 0.7307, 0.0000,  ..., 0.7162, 1.0000, 1.0000],\n",
       "         [0.2171, 0.7152, 0.0000,  ..., 0.7208, 1.0000, 1.0000]]])"
      ]
     },
     "execution_count": 25,
     "metadata": {},
     "output_type": "execute_result"
    }
   ],
   "source": [
    "\n",
    "for i in range(5):\n",
    "    local_copy = initial_id_latents\n",
    "    data.SpriteWorldDataset(\n",
    "    len(id_c_0_combinations),\n",
    "    2,\n",
    "    cfg,\n",
    "    sample_mode=\"diagonal\",\n",
    "    no_overlap=True,\n",
    "    delta=0.125,\n",
    "    transform=transforms.Compose([transforms.ToPILImage(), transforms.ToTensor()]),\n",
    ")"
   ]
  },
  {
   "cell_type": "code",
   "execution_count": 26,
   "id": "c8827089",
   "metadata": {},
   "outputs": [
    {
     "data": {
      "text/plain": [
       "7482"
      ]
     },
     "execution_count": 26,
     "metadata": {},
     "output_type": "execute_result"
    }
   ],
   "source": [
    "len(ood_c_0_combinations)"
   ]
  },
  {
   "cell_type": "code",
   "execution_count": 49,
   "id": "b975b90e",
   "metadata": {},
   "outputs": [
    {
     "data": {
      "text/plain": [
       "array([37, 21, 34, 33,  8, 12,  6,  1])"
      ]
     },
     "execution_count": 49,
     "metadata": {},
     "output_type": "execute_result"
    }
   ],
   "source": [
    "np.array((2060, 2044, 2057, 2056, 2031, 2035, 2029, 2024)) - 2023"
   ]
  },
  {
   "cell_type": "code",
   "execution_count": null,
   "id": "0190854a",
   "metadata": {},
   "outputs": [],
   "source": []
  }
 ],
 "metadata": {
  "kernelspec": {
   "display_name": "Python 3 (ipykernel)",
   "language": "python",
   "name": "python3"
  },
  "language_info": {
   "codemirror_mode": {
    "name": "ipython",
    "version": 3
   },
   "file_extension": ".py",
   "mimetype": "text/x-python",
   "name": "python",
   "nbconvert_exporter": "python",
   "pygments_lexer": "ipython3",
   "version": "3.10.6"
  }
 },
 "nbformat": 4,
 "nbformat_minor": 5
}
