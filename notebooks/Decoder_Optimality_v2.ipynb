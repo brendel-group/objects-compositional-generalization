{
 "cells": [
  {
   "cell_type": "code",
   "execution_count": 1,
   "id": "d3b7d62c",
   "metadata": {},
   "outputs": [],
   "source": [
    "%load_ext autoreload\n",
    "%autoreload 2\n",
    "\n",
    "import sys\n",
    "\n",
    "sys.path.append(\"..\")\n",
    "\n",
    "import numpy as np\n",
    "import torch\n",
    "import random\n",
    "from tqdm import tqdm\n",
    "\n",
    "import matplotlib.pyplot as plt\n",
    "\n",
    "from src.datasets import data, utils, configs\n",
    "from src.datasets.utils import dump_generated_dataset, PreGeneratedDataset\n",
    "from src.models import base_models, slot_attention\n",
    "import os\n",
    "from src import metrics\n",
    "\n",
    "from torchvision import transforms as transforms\n",
    "\n",
    "seed = 43\n",
    "random.seed(seed)\n",
    "np.random.seed(seed)\n",
    "torch.manual_seed(seed)\n",
    "\n",
    "from utils.decoder_evaluation import calculate_decoder_optimality, get_left_right_datasets, scale, min_offset\n",
    "from utils.heatmap_utils import *"
   ]
  },
  {
   "cell_type": "code",
   "execution_count": 61,
   "id": "b0879a82",
   "metadata": {},
   "outputs": [],
   "source": [
    "path = \"D:/mnt/qb/work/bethge/apanfilov27/object_centric_consistency_project/dsprites/test/no_overlap_off_diagonal/2_objects\"\n",
    "ood_dataset = PreGeneratedDataset(path, 5000)\n",
    "\n",
    "path = \"D:/mnt/qb/work/bethge/apanfilov27/object_centric_consistency_project/dsprites/test/diagonal/2_objects\"\n",
    "id_dataset = PreGeneratedDataset(path, 5000)"
   ]
  },
  {
   "cell_type": "code",
   "execution_count": 128,
   "id": "83aef295",
   "metadata": {},
   "outputs": [],
   "source": [
    "def load_model_and_hook(path, model_name):\n",
    "    # Load the checkpoint\n",
    "    checkpoint = torch.load(path)\n",
    "    \n",
    "    # Determine which model to load based on the model name\n",
    "    if model_name == \"SlotAttention\":\n",
    "        encoder = slot_attention.SlotAttentionEncoder(\n",
    "            resolution=(64, 64),\n",
    "            hid_dim=16,\n",
    "            ch_dim=32,\n",
    "            dataset_name=\"dsprites\",\n",
    "        )\n",
    "        decoder = slot_attention.SlotAttentionDecoder(\n",
    "            hid_dim=16,\n",
    "            ch_dim=32,\n",
    "            resolution=(64, 64),\n",
    "            dataset_name=\"dsprites\",\n",
    "        )\n",
    "        model = slot_attention.SlotAttentionAutoEncoder(\n",
    "            encoder=encoder,\n",
    "            decoder=decoder,\n",
    "            num_slots=2,\n",
    "            num_iterations=3,\n",
    "            hid_dim=16,\n",
    "            dataset_name=\"dsprites\",\n",
    "        )\n",
    "        decoder_hook = model.decode\n",
    "    elif model_name == \"SlotMLPAdditive\":\n",
    "        model = base_models.SlotMLPAdditive(3, 2, 16)\n",
    "        decoder_hook = model.decoder\n",
    "    else:\n",
    "        raise ValueError(\"Invalid model name\")\n",
    "    \n",
    "    # Load the model weights and set the model to eval model\n",
    "    model.load_state_dict(checkpoint[\"model_state_dict\"])\n",
    "    model.eval()\n",
    "\n",
    "    return model, decoder_hook\n",
    "\n",
    "\n",
    "def evaluate_function_over_seeds(func, seeds, *args, **kwargs):\n",
    "    results = {\"mse_model\": [], \"mse_decoder\": [], \"figures_mse_model\": []}\n",
    "    \n",
    "    for seed in seeds:\n",
    "        random.seed(seed)\n",
    "        np.random.seed(seed)\n",
    "        torch.manual_seed(seed)\n",
    "        \n",
    "        temp_results = func(*args, **kwargs)\n",
    "        \n",
    "        # If results lists are empty, initialize them with lists for each sample\n",
    "        if not results[\"mse_model\"]:\n",
    "            results[\"mse_model\"] = [[] for _ in range(len(temp_results[\"model_performances\"]))]\n",
    "            results[\"mse_decoder\"] = [[] for _ in range(len(temp_results[\"model_performances\"]))]\n",
    "            results[\"figures_mse_model\"] = [[] for _ in range(len(temp_results[\"model_performances\"]))]\n",
    "        \n",
    "        for i in range(len(temp_results[\"model_performances\"])):\n",
    "            results[\"mse_model\"][i].append(temp_results[\"model_performances\"][i][\"mse_model\"])\n",
    "            results[\"mse_decoder\"][i].append(temp_results[\"model_performances\"][i][\"mse_decoder\"])\n",
    "            results[\"figures_mse_model\"][i].append(temp_results[\"model_performances\"][i][\"figures_mse_model\"])\n",
    "    \n",
    "    # Compute median for each sample\n",
    "    for key in results:\n",
    "        results[key] = [np.median(torch.stack(results[key][i]), axis=0) for i in range(len(results[key]))]\n",
    "    \n",
    "    # re-arrange the results\n",
    "    out = []\n",
    "    for i in range(len(results[\"mse_model\"])):\n",
    "        out.append(dict())\n",
    "        for key in results:\n",
    "            out[i][key] = results[key][i]\n",
    "    \n",
    "    return out\n",
    "\n",
    "def cast_models_to_device(device, models):\n",
    "    for model in models:\n",
    "        model.cuda()"
   ]
  },
  {
   "cell_type": "code",
   "execution_count": 4,
   "id": "bf3f203f",
   "metadata": {},
   "outputs": [
    {
     "name": "stderr",
     "output_type": "stream",
     "text": [
      "Generating images (sampling: skip): 100%|█████████████████████████████████████████| 5000/5000 [00:41<00:00, 119.40it/s]\n",
      "Generating images (sampling: skip): 100%|█████████████████████████████████████████| 5000/5000 [00:42<00:00, 117.07it/s]\n"
     ]
    }
   ],
   "source": [
    "diagonal_dataset_left, diagonal_dataset_right = get_left_right_datasets(ood_dataset)"
   ]
  },
  {
   "cell_type": "code",
   "execution_count": 4,
   "id": "c7f62355",
   "metadata": {},
   "outputs": [
    {
     "ename": "NameError",
     "evalue": "name 'ood_dataset' is not defined",
     "output_type": "error",
     "traceback": [
      "\u001b[1;31m---------------------------------------------------------------------------\u001b[0m",
      "\u001b[1;31mNameError\u001b[0m                                 Traceback (most recent call last)",
      "Cell \u001b[1;32mIn[4], line 20\u001b[0m\n\u001b[0;32m     15\u001b[0m     hooks\u001b[38;5;241m.\u001b[39mappend(decoder_hook)\n\u001b[0;32m     17\u001b[0m cast_models_to_device(\u001b[38;5;124m\"\u001b[39m\u001b[38;5;124mcuda\u001b[39m\u001b[38;5;124m\"\u001b[39m)    \n\u001b[1;32m---> 20\u001b[0m SlotMLPAdditive_output \u001b[38;5;241m=\u001b[39m calculate_decoder_optimality(\u001b[43mood_dataset\u001b[49m, \n\u001b[0;32m     21\u001b[0m                                                       diagonal_dataset_left, \n\u001b[0;32m     22\u001b[0m                                                       diagonal_dataset_right, \n\u001b[0;32m     23\u001b[0m                                                       models, hooks, device\u001b[38;5;241m=\u001b[39m\u001b[38;5;124m\"\u001b[39m\u001b[38;5;124mcuda\u001b[39m\u001b[38;5;124m\"\u001b[39m, output_figures\u001b[38;5;241m=\u001b[39m\u001b[38;5;28;01mTrue\u001b[39;00m)\n\u001b[0;32m     24\u001b[0m seeds \u001b[38;5;241m=\u001b[39m [\u001b[38;5;241m43\u001b[39m, \u001b[38;5;241m44\u001b[39m, \u001b[38;5;241m45\u001b[39m, \u001b[38;5;241m46\u001b[39m]\n\u001b[0;32m     25\u001b[0m SlotMLPAdditive_output \u001b[38;5;241m=\u001b[39m evaluate_function_over_seeds(calculate_decoder_optimality, \n\u001b[0;32m     26\u001b[0m                                                          seeds, ood_dataset, \n\u001b[0;32m     27\u001b[0m                                                          diagonal_dataset_left, diagonal_dataset_right, \n\u001b[0;32m     28\u001b[0m                                                          models, hooks, device\u001b[38;5;241m=\u001b[39m\u001b[38;5;124m\"\u001b[39m\u001b[38;5;124mcuda\u001b[39m\u001b[38;5;124m\"\u001b[39m)\n",
      "\u001b[1;31mNameError\u001b[0m: name 'ood_dataset' is not defined"
     ]
    }
   ],
   "source": [
    "paths = \"D:/git_projects/bethgelab/lab_rotation/object_centric_ood/notebooks/models/SlotMLPAdditive_2obj_300_vanilla_no_overlaps\"\n",
    "paths_and_names = [\n",
    "    (os.path.join(paths, \"SlotMLPAdditive_2obj_300_vanilla_no_overlaps_2023.pt\"), \"SlotMLPAdditive\"),\n",
    "    (os.path.join(paths, \"SlotMLPAdditive_2obj_300_vanilla_no_overlaps_2024.pt\"), \"SlotMLPAdditive\"),\n",
    "    (os.path.join(paths, \"SlotMLPAdditive_2obj_300_vanilla_no_overlaps_2027.pt\"), \"SlotMLPAdditive\"),\n",
    "    (os.path.join(paths, \"SlotMLPAdditive_2obj_300_vanilla_no_overlaps_2028.pt\"), \"SlotMLPAdditive\"),\n",
    "    (os.path.join(paths, \"SlotMLPAdditive_2obj_300_vanilla_no_overlaps_2031.pt\"), \"SlotMLPAdditive\"),\n",
    "]\n",
    "\n",
    "models = []\n",
    "hooks = []\n",
    "for (path, name) in paths_and_names:\n",
    "    model, decoder_hook= load_model_and_hook(path, name)\n",
    "    models.append(model)\n",
    "    hooks.append(decoder_hook)\n",
    "\n",
    "cast_models_to_device(\"cuda\")    \n",
    "\n",
    "    \n",
    "SlotMLPAdditive_output = calculate_decoder_optimality(ood_dataset, \n",
    "                                                      diagonal_dataset_left, \n",
    "                                                      diagonal_dataset_right, \n",
    "                                                      models, hooks, device=\"cuda\", output_figures=True)\n",
    "seeds = [43, 44, 45, 46]\n",
    "SlotMLPAdditive_output = evaluate_function_over_seeds(calculate_decoder_optimality, \n",
    "                                                         seeds, ood_dataset, \n",
    "                                                         diagonal_dataset_left, diagonal_dataset_right, \n",
    "                                                         models, hooks, device=\"cuda\")"
   ]
  },
  {
   "cell_type": "code",
   "execution_count": 13,
   "id": "856f287c",
   "metadata": {},
   "outputs": [
    {
     "ename": "NameError",
     "evalue": "name 'ood_dataset' is not defined",
     "output_type": "error",
     "traceback": [
      "\u001b[1;31m---------------------------------------------------------------------------\u001b[0m",
      "\u001b[1;31mNameError\u001b[0m                                 Traceback (most recent call last)",
      "Cell \u001b[1;32mIn[13], line 18\u001b[0m\n\u001b[0;32m     14\u001b[0m     hooks\u001b[38;5;241m.\u001b[39mappend(decoder_hook)\n\u001b[0;32m     16\u001b[0m cast_models_to_device(\u001b[38;5;124m\"\u001b[39m\u001b[38;5;124mcuda\u001b[39m\u001b[38;5;124m\"\u001b[39m)    \n\u001b[1;32m---> 18\u001b[0m SlotAttention_out \u001b[38;5;241m=\u001b[39m calculate_decoder_optimality(\u001b[43mood_dataset\u001b[49m, \n\u001b[0;32m     19\u001b[0m                                                       diagonal_dataset_left, \n\u001b[0;32m     20\u001b[0m                                                       diagonal_dataset_right, \n\u001b[0;32m     21\u001b[0m                                                       models, hooks, device\u001b[38;5;241m=\u001b[39m\u001b[38;5;124m\"\u001b[39m\u001b[38;5;124mcuda\u001b[39m\u001b[38;5;124m\"\u001b[39m, output_figures\u001b[38;5;241m=\u001b[39m\u001b[38;5;28;01mTrue\u001b[39;00m)\n",
      "\u001b[1;31mNameError\u001b[0m: name 'ood_dataset' is not defined"
     ]
    }
   ],
   "source": [
    "paths = \"D:/git_projects/bethgelab/lab_rotation/object_centric_ood/notebooks/models/SlotAttention_2obj_400_vanilla_no_overlaps\"\n",
    "paths_and_names = [\n",
    "    (os.path.join(paths, \"SlotAttention_2obj_400_vanilla_no_overlaps_2023.pt\"), \"SlotAttention\"),\n",
    "    (os.path.join(paths, \"SlotAttention_2obj_400_vanilla_no_overlaps_2024.pt\"), \"SlotAttention\"),\n",
    "    (os.path.join(paths, \"SlotAttention_2obj_400_vanilla_no_overlaps_2025.pt\"), \"SlotAttention\"),\n",
    "    (os.path.join(paths, \"SlotAttention_2obj_400_vanilla_no_overlaps_2026.pt\"), \"SlotAttention\"),\n",
    "    (os.path.join(paths, \"SlotAttention_2obj_400_vanilla_no_overlaps_2027.pt\"), \"SlotAttention\"),\n",
    "]\n",
    "models = []\n",
    "hooks = []\n",
    "for (path, name) in paths_and_names:\n",
    "    model, decoder_hook= load_model_and_hook(path, name)\n",
    "    models.append(model)\n",
    "    hooks.append(decoder_hook)\n",
    "\n",
    "cast_models_to_device(\"cuda\")    \n",
    "\n",
    "SlotAttention_out = calculate_decoder_optimality(ood_dataset, \n",
    "                                                      diagonal_dataset_left, \n",
    "                                                      diagonal_dataset_right, \n",
    "                                                      models, hooks, device=\"cuda\", output_figures=True)\n",
    "\n",
    "# seeds = [43, 44, 45, 46]\n",
    "# SlotAttention_out = evaluate_function_over_seeds(calculate_decoder_optimality, \n",
    "#                                                          seeds, traversed_dataset, \n",
    "#                                                          diagonal_dataset_left, diagonal_dataset_right, \n",
    "#                                                          models, hooks, device=\"cuda\")"
   ]
  },
  {
   "cell_type": "code",
   "execution_count": 12,
   "id": "318bf584",
   "metadata": {},
   "outputs": [
    {
     "name": "stderr",
     "output_type": "stream",
     "text": [
      "7it [04:16, 36.69s/it]\n"
     ]
    }
   ],
   "source": [
    "paths = \"D:/git_projects/bethgelab/lab_rotation/object_centric_ood/notebooks/models/SlotAttention_2obj_vanilla_nooverlaps_nomasks\"\n",
    "paths_and_names = [\n",
    "    (os.path.join(paths, \"SlotAttention_2obj_nooverlaps_nomasks_vanilla_400_2089.pt\"), \"SlotAttention\"),\n",
    "    (os.path.join(paths, \"SlotAttention_2obj_nooverlaps_nomasks_vanilla_400_2088.pt\"), \"SlotAttention\"),\n",
    "    (os.path.join(paths, \"SlotAttention_2obj_nooverlaps_nomasks_vanilla_400_2081.pt\"), \"SlotAttention\"),\n",
    "    (os.path.join(paths, \"SlotAttention_2obj_nooverlaps_nomasks_vanilla_400_2075.pt\"), \"SlotAttention\"),\n",
    "    (os.path.join(paths, \"SlotAttention_2obj_nooverlaps_nomasks_vanilla_400_2073.pt\"), \"SlotAttention\"),\n",
    "    (os.path.join(paths, \"SlotAttention_2obj_nooverlaps_nomasks_vanilla_400_2038.pt\"), \"SlotAttention\"),\n",
    "    (os.path.join(paths, \"SlotAttention_2obj_nooverlaps_nomasks_vanilla_400_2026.pt\"), \"SlotAttention\"),\n",
    "]\n",
    "\n",
    "models = []\n",
    "hooks = []\n",
    "for (path, name) in paths_and_names:\n",
    "    model, decoder_hook= load_model_and_hook(path, name)\n",
    "    models.append(model)\n",
    "    hooks.append(decoder_hook)\n",
    "\n",
    "cast_models_to_device(\"cuda\")    \n",
    "\n",
    "SlotAttention_out_nomasks = calculate_decoder_optimality(ood_dataset, \n",
    "                                                      diagonal_dataset_left, \n",
    "                                                      diagonal_dataset_right, \n",
    "                                                      models, hooks, device=\"cuda\", output_figures=True)\n",
    "# seeds = [43, 44, 45, 46]\n",
    "# SlotAttention_out_nomasks = evaluate_function_over_seeds(calculate_decoder_optimality, \n",
    "#                                                          seeds, ood_dataset, \n",
    "#                                                          diagonal_dataset_left, diagonal_dataset_right, \n",
    "#                                                          models, hooks, device=\"cuda\")"
   ]
  },
  {
   "cell_type": "code",
   "execution_count": null,
   "id": "2cfe63f9",
   "metadata": {},
   "outputs": [
    {
     "name": "stderr",
     "output_type": "stream",
     "text": [
      "7it [03:53, 33.41s/it]\n",
      "7it [04:27, 38.17s/it]\n",
      "7it [04:37, 39.59s/it]\n",
      "6it [03:57, 39.52s/it]"
     ]
    }
   ],
   "source": [
    "paths = \"D:/git_projects/bethgelab/lab_rotation/object_centric_ood/notebooks/models/SlotAttention_2obj_enccons_nooverlaps_nomasks\"\n",
    "paths_and_names = [\n",
    "    (os.path.join(paths, \"SlotAttention_2obj_nooverlaps_nomasks_enccons_400_2026.pt\"), \"SlotAttention\"),\n",
    "    (os.path.join(paths, \"SlotAttention_2obj_nooverlaps_nomasks_enccons_400_2038.pt\"), \"SlotAttention\"),\n",
    "    (os.path.join(paths, \"SlotAttention_2obj_nooverlaps_nomasks_enccons_400_2073.pt\"), \"SlotAttention\"),\n",
    "    (os.path.join(paths, \"SlotAttention_2obj_nooverlaps_nomasks_enccons_400_2075.pt\"), \"SlotAttention\"),\n",
    "    (os.path.join(paths, \"SlotAttention_2obj_nooverlaps_nomasks_enccons_400_2081.pt\"), \"SlotAttention\"),\n",
    "    (os.path.join(paths, \"SlotAttention_2obj_nooverlaps_nomasks_enccons_400_2088.pt\"), \"SlotAttention\"),\n",
    "    (os.path.join(paths, \"SlotAttention_2obj_nooverlaps_nomasks_enccons_400_2089.pt\"), \"SlotAttention\"),\n",
    "]\n",
    "\n",
    "models = []\n",
    "hooks = []\n",
    "for (path, name) in paths_and_names:\n",
    "    model, decoder_hook= load_model_and_hook(path, name)\n",
    "    models.append(model)\n",
    "    hooks.append(decoder_hook)\n",
    "\n",
    "cast_models_to_device(\"cuda\")    \n",
    "\n",
    "# SlotAttention_out_nomasks_enccons = calculate_decoder_optimality(ood_dataset, \n",
    "#                                                       diagonal_dataset_left, \n",
    "#                                                       diagonal_dataset_right, \n",
    "#                                                       models, hooks, device=\"cuda\", output_figures=True)\n",
    "\n",
    "seeds = [43, 44, 45, 46]\n",
    "SlotAttention_out_nomasks_enccons = evaluate_function_over_seeds(calculate_decoder_optimality, \n",
    "                                                         seeds, ood_dataset, \n",
    "                                                         diagonal_dataset_left, diagonal_dataset_right, \n",
    "                                                         models, hooks, device=\"cuda\")"
   ]
  },
  {
   "cell_type": "code",
   "execution_count": 5,
   "id": "fc757a89",
   "metadata": {},
   "outputs": [
    {
     "name": "stderr",
     "output_type": "stream",
     "text": [
      "5it [02:52, 34.51s/it]\n"
     ]
    }
   ],
   "source": [
    "paths = \"D:/git_projects/bethgelab/lab_rotation/object_centric_ood/notebooks/models/SlotAttention_2obj_400_enccons_no_overlaps\"\n",
    "paths_and_names = [\n",
    "    (os.path.join(paths, \"SlotAttention_2obj_400_enccons_no_overlaps_2023.pt\"), \"SlotAttention\"),\n",
    "    (os.path.join(paths, \"SlotAttention_2obj_400_enccons_no_overlaps_2024.pt\"), \"SlotAttention\"),\n",
    "    (os.path.join(paths, \"SlotAttention_2obj_400_enccons_no_overlaps_2025.pt\"), \"SlotAttention\"),\n",
    "    (os.path.join(paths, \"SlotAttention_2obj_400_enccons_no_overlaps_2026.pt\"), \"SlotAttention\"),\n",
    "    (os.path.join(paths, \"SlotAttention_2obj_400_enccons_no_overlaps_2027.pt\"), \"SlotAttention\"),\n",
    "]\n",
    "\n",
    "models = []\n",
    "hooks = []\n",
    "for (path, name) in paths_and_names:\n",
    "    model, decoder_hook= load_model_and_hook(path, name)\n",
    "    models.append(model)\n",
    "    hooks.append(decoder_hook)\n",
    "\n",
    "cast_models_to_device(\"cuda\")    \n",
    "\n",
    "SlotAttention_out_enccons = calculate_decoder_optimality(ood_dataset, \n",
    "                                                      diagonal_dataset_left, \n",
    "                                                      diagonal_dataset_right, \n",
    "                                                      models, hooks, device=\"cuda\", output_figures=True)"
   ]
  },
  {
   "cell_type": "code",
   "execution_count": 6,
   "id": "5cfbd46b",
   "metadata": {},
   "outputs": [],
   "source": [
    "ood_figures = torch.zeros((5000, 3, 64, 64))"
   ]
  },
  {
   "cell_type": "code",
   "execution_count": 7,
   "id": "f530fafb",
   "metadata": {},
   "outputs": [],
   "source": [
    "for i, batch in enumerate(ood_dataset):\n",
    "    ood_figures[i] = batch[0][-1]"
   ]
  },
  {
   "cell_type": "code",
   "execution_count": 29,
   "id": "a131ccbd",
   "metadata": {},
   "outputs": [],
   "source": [
    "# def calculate_mse(performances, ood_figures):\n",
    "#     output = []\n",
    "#     for i in range(len(performances)):\n",
    "#         output.append(metrics.reconstruction_loss(performances[i], ood_figures))\n",
    "#     output = np.array(output)\n",
    "#     return output.mean(), output.std()\n",
    "\n",
    "def calculate_mse(performances, key, clip=0.999):\n",
    "    accum_mse = 0\n",
    "    for i in range(len(performances)):\n",
    "        accum_mse += np.clip(performances[i][key], 0, np.quantile(performances[i][key], clip))\n",
    "    \n",
    "    return accum_mse / len(performances)\n",
    "\n",
    "def calculate_r2(performances, ood_figures):\n",
    "    output = []\n",
    "    for i in range(len(performances)):\n",
    "        output.append(metrics.image_r2_score(performances[i], ood_figures))\n",
    "    output = np.array(output)\n",
    "    return output.mean(), output.std()"
   ]
  },
  {
   "cell_type": "code",
   "execution_count": 21,
   "id": "eac74c33",
   "metadata": {},
   "outputs": [
    {
     "name": "stdout",
     "output_type": "stream",
     "text": [
      "MODEL\n",
      "(0.71509784, 0.0150996195)\n",
      "DECODER\n",
      "(0.99733293, 0.0004630557)\n"
     ]
    }
   ],
   "source": [
    "print(\"MODEL\")\n",
    "print(calculate_r2(SlotMLPAdditive_output[\"reconstructed_images\"], ood_figures))\n",
    "\n",
    "print(\"DECODER\")\n",
    "print(calculate_r2(SlotMLPAdditive_output[\"ood_matched_figures\"], ood_figures))"
   ]
  },
  {
   "cell_type": "code",
   "execution_count": 33,
   "id": "9ce264c9",
   "metadata": {},
   "outputs": [
    {
     "data": {
      "text/plain": [
       "32.473213"
      ]
     },
     "execution_count": 33,
     "metadata": {},
     "output_type": "execute_result"
    }
   ],
   "source": [
    "calculate_mse(SlotMLPAdditive_output, \"mse_model\", clip=1.0).mean()"
   ]
  },
  {
   "cell_type": "code",
   "execution_count": 18,
   "id": "6f6cadba",
   "metadata": {},
   "outputs": [
    {
     "name": "stdout",
     "output_type": "stream",
     "text": [
      "MODEL\n",
      "(0.7405845, 0.0675093)\n",
      "DECODER\n",
      "(0.94105494, 0.067634396)\n"
     ]
    }
   ],
   "source": [
    "print(\"MODEL\")\n",
    "print(calculate_r2(SlotAttention_out[\"reconstructed_images\"], ood_figures))\n",
    "\n",
    "print(\"DECODER\")\n",
    "print(calculate_r2(SlotAttention_out[\"ood_matched_figures\"], ood_figures))"
   ]
  },
  {
   "cell_type": "code",
   "execution_count": 16,
   "id": "0eda560c",
   "metadata": {},
   "outputs": [
    {
     "name": "stdout",
     "output_type": "stream",
     "text": [
      "MODEL\n",
      "(0.80269593, 0.008756061)\n",
      "DECODER\n",
      "(0.99823606, 0.0005273508)\n"
     ]
    }
   ],
   "source": [
    "print(\"MODEL\")\n",
    "print(calculate_r2(SlotAttention_out_enccons[\"reconstructed_images\"], ood_figures))\n",
    "\n",
    "print(\"DECODER\")\n",
    "print(calculate_r2(SlotAttention_out_enccons[\"ood_matched_figures\"], ood_figures))"
   ]
  },
  {
   "cell_type": "code",
   "execution_count": 14,
   "id": "dd5742d6",
   "metadata": {},
   "outputs": [
    {
     "name": "stdout",
     "output_type": "stream",
     "text": [
      "MODEL\n",
      "(0.8097561, 0.015541609)\n",
      "DECODER\n",
      "(0.9988093, 0.00041683792)\n"
     ]
    }
   ],
   "source": [
    "print(\"MODEL\")\n",
    "print(calculate_r2(SlotAttention_out_nomasks[\"reconstructed_images\"], ood_figures))\n",
    "\n",
    "print(\"DECODER\")\n",
    "print(calculate_r2(SlotAttention_out_nomasks[\"ood_matched_figures\"], ood_figures))"
   ]
  },
  {
   "cell_type": "code",
   "execution_count": 15,
   "id": "8fff95b3",
   "metadata": {},
   "outputs": [
    {
     "name": "stdout",
     "output_type": "stream",
     "text": [
      "MODEL\n",
      "(0.86806434, 0.046603654)\n",
      "DECODER\n",
      "(0.99840343, 0.00057590764)\n"
     ]
    }
   ],
   "source": [
    "print(\"MODEL\")\n",
    "print(calculate_r2(SlotAttention_out_nomasks_enccons[\"reconstructed_images\"], ood_figures))\n",
    "\n",
    "print(\"DECODER\")\n",
    "print(calculate_r2(SlotAttention_out_nomasks_enccons[\"ood_matched_figures\"], ood_figures))"
   ]
  },
  {
   "cell_type": "code",
   "execution_count": 22,
   "id": "3622e379",
   "metadata": {},
   "outputs": [
    {
     "name": "stdout",
     "output_type": "stream",
     "text": [
      "MSE MODEL\n",
      "(17.089613, 6.129813)\n",
      "MSE DECODER\n",
      "(0.20648721, 0.07448875)\n"
     ]
    }
   ],
   "source": [
    "print(\"MSE MODEL\")\n",
    "print(calculate_mse(SlotAttention_out_nomasks_enccons[\"reconstructed_images\"], ood_figures))\n",
    "\n",
    "print(\"MSE DECODER\")\n",
    "print(calculate_mse(SlotAttention_out_nomasks_enccons[\"ood_matched_figures\"], ood_figures))"
   ]
  },
  {
   "cell_type": "code",
   "execution_count": 37,
   "id": "1d50eba3",
   "metadata": {},
   "outputs": [
    {
     "data": {
      "text/plain": [
       "tensor(17.0896)"
      ]
     },
     "execution_count": 37,
     "metadata": {},
     "output_type": "execute_result"
    }
   ],
   "source": [
    "calculate_mse(SlotAttention_out_nomasks_enccons[\"model_performances\"], \"mse_model\", clip=1.0).mean()"
   ]
  },
  {
   "cell_type": "code",
   "execution_count": null,
   "id": "eab29e48",
   "metadata": {},
   "outputs": [],
   "source": [
    "calculate_mse(SlotAttention_out_nomasks_enccons, \"mse_model\", clip=1.0).mean()"
   ]
  },
  {
   "cell_type": "code",
   "execution_count": 1,
   "id": "3087ff52",
   "metadata": {},
   "outputs": [],
   "source": [
    "import numpy as np"
   ]
  },
  {
   "cell_type": "code",
   "execution_count": 2,
   "id": "9cae7c36",
   "metadata": {},
   "outputs": [
    {
     "data": {
      "text/plain": [
       "array([16, 14,  4,  5,  1])"
      ]
     },
     "execution_count": 2,
     "metadata": {},
     "output_type": "execute_result"
    }
   ],
   "source": [
    "np.array((2039, 2037, 2027, 2028, 2024)) - 2023"
   ]
  },
  {
   "cell_type": "code",
   "execution_count": 1,
   "id": "62e6477c",
   "metadata": {},
   "outputs": [
    {
     "ename": "NameError",
     "evalue": "name 'np' is not defined",
     "output_type": "error",
     "traceback": [
      "\u001b[1;31m---------------------------------------------------------------------------\u001b[0m",
      "\u001b[1;31mNameError\u001b[0m                                 Traceback (most recent call last)",
      "Cell \u001b[1;32mIn[1], line 1\u001b[0m\n\u001b[1;32m----> 1\u001b[0m \u001b[43mnp\u001b[49m\u001b[38;5;241m.\u001b[39marray((\u001b[38;5;241m2060\u001b[39m, \u001b[38;5;241m2057\u001b[39m, \u001b[38;5;241m2044\u001b[39m, \u001b[38;5;241m2056\u001b[39m, \u001b[38;5;241m2031\u001b[39m, \u001b[38;5;241m2029\u001b[39m, \u001b[38;5;241m2024\u001b[39m, \u001b[38;5;241m2035\u001b[39m)) \u001b[38;5;241m-\u001b[39m \u001b[38;5;241m2023\u001b[39m\n",
      "\u001b[1;31mNameError\u001b[0m: name 'np' is not defined"
     ]
    }
   ],
   "source": [
    "np.array((2060, 2057, 2044, 2056, 2031, 2029, 2024, 2035)) - 2023"
   ]
  },
  {
   "cell_type": "code",
   "execution_count": 62,
   "id": "1ebae71a",
   "metadata": {},
   "outputs": [],
   "source": [
    "ood_loader = torch.utils.data.DataLoader(\n",
    "            ood_dataset,\n",
    "            batch_size=64,\n",
    "            shuffle=False,\n",
    "            collate_fn=lambda b: utils.collate_fn_normalizer(b, min_offset, scale),\n",
    "        )\n",
    "\n",
    "\n",
    "id_loader = torch.utils.data.DataLoader(\n",
    "            id_dataset,\n",
    "            batch_size=64,\n",
    "            shuffle=False,\n",
    "            collate_fn=lambda b: utils.collate_fn_normalizer(b, min_offset, scale),\n",
    "        )"
   ]
  },
  {
   "cell_type": "code",
   "execution_count": 129,
   "id": "3b60553d",
   "metadata": {},
   "outputs": [],
   "source": [
    "paths = \"D:/git_projects/bethgelab/lab_rotation/object_centric_ood/notebooks/models/SlotAttention_2obj_nooverlaps_nomasks_nosampling_vanilla_600\"\n",
    "paths_and_names = []\n",
    "for name in os.listdir(paths):\n",
    "    if name.endswith(\".pt\"):\n",
    "        paths_and_names.append((os.path.join(paths, name), \"SlotAttention\"))\n",
    "\n",
    "\n",
    "vanilla_models = []\n",
    "vanilla_hooks = []\n",
    "for (path, name) in paths_and_names:\n",
    "    model, decoder_hook= load_model_and_hook(path, name)\n",
    "    vanilla_models.append(model)\n",
    "    vanilla_hooks.append(decoder_hook)\n",
    "\n",
    "cast_models_to_device(\"cuda\", vanilla_models)\n",
    "\n",
    "paths = \"D:/git_projects/bethgelab/lab_rotation/object_centric_ood/notebooks/models/SlotAttention_2obj_nooverlaps_nomasks_nosampling_enccons_600\"\n",
    "paths_and_names = []\n",
    "for name in os.listdir(paths):\n",
    "    if name.endswith(\".pt\"):\n",
    "        paths_and_names.append((os.path.join(paths, name), \"SlotAttention\"))\n",
    "        \n",
    "enccons_models = []\n",
    "enccons_hooks = []\n",
    "for (path, name) in paths_and_names:\n",
    "    model, decoder_hook= load_model_and_hook(path, name)\n",
    "    enccons_models.append(model)\n",
    "    enccons_hooks.append(decoder_hook)\n",
    "\n",
    "cast_models_to_device(\"cuda\", enccons_models)"
   ]
  },
  {
   "cell_type": "code",
   "execution_count": 8,
   "id": "280d5296",
   "metadata": {},
   "outputs": [],
   "source": [
    "from tqdm import tqdm"
   ]
  },
  {
   "cell_type": "code",
   "execution_count": 130,
   "id": "0bf62b10",
   "metadata": {},
   "outputs": [],
   "source": [
    "def eval_loader(loader, models):\n",
    "    output_array = []\n",
    "    for model in models:\n",
    "        model_mse = []\n",
    "        y_coords = []\n",
    "        c_coords = []\n",
    "        with torch.no_grad():\n",
    "            for (image, latent) in tqdm(loader):\n",
    "                image = image[:, -1, ...].to(\"cuda\")\n",
    "                out = model(image)\n",
    "\n",
    "                y_coord = latent[:, 0, 1] - latent[:, 1, 1]\n",
    "                c_coord = latent[:, 0, -1] - latent[:, 1, -1]\n",
    "                loss = (image - out[\"reconstructed_image\"]).square().cpu().reshape(image.shape[0], -1).sum(dim=1)\n",
    "\n",
    "                c_coords.append(c_coord)\n",
    "                y_coords.append(y_coord)\n",
    "                model_mse.append(loss)\n",
    "\n",
    "            output_array.append((np.concatenate(y_coords), np.concatenate(c_coords), np.concatenate(np.array(model_mse))))\n",
    "    return output_array"
   ]
  },
  {
   "cell_type": "code",
   "execution_count": 131,
   "id": "81890c05",
   "metadata": {},
   "outputs": [
    {
     "name": "stderr",
     "output_type": "stream",
     "text": [
      "100%|██████████████████████████████████████████████████████████████████████████████████| 79/79 [00:34<00:00,  2.29it/s]\n",
      "C:\\Users\\sasha\\AppData\\Local\\Temp\\ipykernel_21476\\1469420619.py:20: FutureWarning: The input object of type 'Tensor' is an array-like implementing one of the corresponding protocols (`__array__`, `__array_interface__` or `__array_struct__`); but not a sequence (or 0-D). In the future, this object will be coerced as if it was first converted using `np.array(obj)`. To retain the old behaviour, you have to either modify the type 'Tensor', or assign to an empty array created with `np.empty(correct_shape, dtype=object)`.\n",
      "  output_array.append((np.concatenate(y_coords), np.concatenate(c_coords), np.concatenate(np.array(model_mse))))\n",
      "C:\\Users\\sasha\\AppData\\Local\\Temp\\ipykernel_21476\\1469420619.py:20: VisibleDeprecationWarning: Creating an ndarray from ragged nested sequences (which is a list-or-tuple of lists-or-tuples-or ndarrays with different lengths or shapes) is deprecated. If you meant to do this, you must specify 'dtype=object' when creating the ndarray.\n",
      "  output_array.append((np.concatenate(y_coords), np.concatenate(c_coords), np.concatenate(np.array(model_mse))))\n",
      "100%|██████████████████████████████████████████████████████████████████████████████████| 79/79 [00:33<00:00,  2.33it/s]\n",
      "100%|██████████████████████████████████████████████████████████████████████████████████| 79/79 [00:33<00:00,  2.33it/s]\n",
      "100%|██████████████████████████████████████████████████████████████████████████████████| 79/79 [00:33<00:00,  2.33it/s]\n",
      "100%|██████████████████████████████████████████████████████████████████████████████████| 79/79 [00:34<00:00,  2.32it/s]\n",
      "100%|██████████████████████████████████████████████████████████████████████████████████| 79/79 [00:34<00:00,  2.32it/s]\n",
      "100%|██████████████████████████████████████████████████████████████████████████████████| 79/79 [00:34<00:00,  2.32it/s]\n",
      "100%|██████████████████████████████████████████████████████████████████████████████████| 79/79 [00:34<00:00,  2.31it/s]\n",
      "100%|██████████████████████████████████████████████████████████████████████████████████| 79/79 [00:34<00:00,  2.30it/s]\n",
      "100%|██████████████████████████████████████████████████████████████████████████████████| 79/79 [00:34<00:00,  2.30it/s]\n",
      "100%|██████████████████████████████████████████████████████████████████████████████████| 79/79 [00:34<00:00,  2.30it/s]\n",
      "100%|██████████████████████████████████████████████████████████████████████████████████| 79/79 [00:34<00:00,  2.29it/s]\n",
      "100%|██████████████████████████████████████████████████████████████████████████████████| 79/79 [00:14<00:00,  5.54it/s]\n",
      "100%|██████████████████████████████████████████████████████████████████████████████████| 79/79 [00:09<00:00,  8.42it/s]\n",
      "100%|██████████████████████████████████████████████████████████████████████████████████| 79/79 [00:09<00:00,  8.26it/s]\n",
      "100%|██████████████████████████████████████████████████████████████████████████████████| 79/79 [00:09<00:00,  7.99it/s]\n"
     ]
    }
   ],
   "source": [
    "vanilla_ood_out = eval_loader(ood_loader, vanilla_models)\n",
    "vanilla_id_out = eval_loader(id_loader, vanilla_models)"
   ]
  },
  {
   "cell_type": "code",
   "execution_count": 144,
   "id": "8a4859b6",
   "metadata": {},
   "outputs": [
    {
     "name": "stderr",
     "output_type": "stream",
     "text": [
      "100%|██████████████████████████████████████████████████████████████████████████████████| 79/79 [00:09<00:00,  8.35it/s]\n",
      "C:\\Users\\sasha\\AppData\\Local\\Temp\\ipykernel_21476\\1469420619.py:20: FutureWarning: The input object of type 'Tensor' is an array-like implementing one of the corresponding protocols (`__array__`, `__array_interface__` or `__array_struct__`); but not a sequence (or 0-D). In the future, this object will be coerced as if it was first converted using `np.array(obj)`. To retain the old behaviour, you have to either modify the type 'Tensor', or assign to an empty array created with `np.empty(correct_shape, dtype=object)`.\n",
      "  output_array.append((np.concatenate(y_coords), np.concatenate(c_coords), np.concatenate(np.array(model_mse))))\n",
      "C:\\Users\\sasha\\AppData\\Local\\Temp\\ipykernel_21476\\1469420619.py:20: VisibleDeprecationWarning: Creating an ndarray from ragged nested sequences (which is a list-or-tuple of lists-or-tuples-or ndarrays with different lengths or shapes) is deprecated. If you meant to do this, you must specify 'dtype=object' when creating the ndarray.\n",
      "  output_array.append((np.concatenate(y_coords), np.concatenate(c_coords), np.concatenate(np.array(model_mse))))\n",
      "100%|██████████████████████████████████████████████████████████████████████████████████| 79/79 [00:09<00:00,  8.61it/s]\n",
      "100%|██████████████████████████████████████████████████████████████████████████████████| 79/79 [00:09<00:00,  8.56it/s]\n",
      "100%|██████████████████████████████████████████████████████████████████████████████████| 79/79 [00:09<00:00,  8.56it/s]\n",
      "100%|██████████████████████████████████████████████████████████████████████████████████| 79/79 [00:09<00:00,  8.53it/s]\n",
      "100%|██████████████████████████████████████████████████████████████████████████████████| 79/79 [00:09<00:00,  8.51it/s]\n",
      "100%|██████████████████████████████████████████████████████████████████████████████████| 79/79 [00:09<00:00,  8.48it/s]\n",
      "100%|██████████████████████████████████████████████████████████████████████████████████| 79/79 [00:09<00:00,  8.33it/s]\n",
      "100%|██████████████████████████████████████████████████████████████████████████████████| 79/79 [00:09<00:00,  8.06it/s]\n",
      "100%|██████████████████████████████████████████████████████████████████████████████████| 79/79 [00:09<00:00,  7.94it/s]\n",
      "100%|██████████████████████████████████████████████████████████████████████████████████| 79/79 [00:10<00:00,  7.75it/s]\n",
      "100%|██████████████████████████████████████████████████████████████████████████████████| 79/79 [00:10<00:00,  7.58it/s]\n",
      "100%|██████████████████████████████████████████████████████████████████████████████████| 79/79 [00:10<00:00,  7.49it/s]\n",
      "100%|██████████████████████████████████████████████████████████████████████████████████| 79/79 [00:10<00:00,  7.35it/s]\n",
      "100%|██████████████████████████████████████████████████████████████████████████████████| 79/79 [00:10<00:00,  7.25it/s]\n",
      "100%|██████████████████████████████████████████████████████████████████████████████████| 79/79 [00:11<00:00,  7.10it/s]\n"
     ]
    }
   ],
   "source": [
    "enccons_ood_out = eval_loader(ood_loader, enccons_models)\n",
    "enccons_id_out = eval_loader(id_loader, enccons_models)"
   ]
  },
  {
   "cell_type": "code",
   "execution_count": 19,
   "id": "fa9ca714",
   "metadata": {},
   "outputs": [
    {
     "data": {
      "text/plain": [
       "torch.Size([5])"
      ]
     },
     "execution_count": 19,
     "metadata": {},
     "output_type": "execute_result"
    }
   ],
   "source": [
    "y_coord.shape"
   ]
  },
  {
   "cell_type": "code",
   "execution_count": 121,
   "id": "c6779b34",
   "metadata": {},
   "outputs": [],
   "source": [
    "import numpy as np\n",
    "import matplotlib.pyplot as plt\n",
    "from scipy.interpolate import griddata\n",
    "\n",
    "# def plot_heatmap(data_sets, cmap='icefire', interpolation_method='nearest'):\n",
    "#     # Concatenate all x, y, and loss values\n",
    "#     x = np.concatenate([t[0] for t in data_sets])\n",
    "#     y = np.concatenate([t[1] for t in data_sets])\n",
    "#     loss = np.concatenate([t[2] for t in data_sets])\n",
    "\n",
    "#     # Create a grid\n",
    "#     xi, yi = np.linspace(min(x), max(x), 100), np.linspace(min(y), max(y), 100)\n",
    "#     xi, yi = np.meshgrid(xi, yi)\n",
    "\n",
    "#     # Interpolate the loss values to fit the grid\n",
    "#     zi = griddata((x, y), loss, (xi, yi), method=interpolation_method)\n",
    "\n",
    "#     # Create the heatmap with vmin set to 0\n",
    "#     plt.imshow(zi, extent=[min(x), max(x), min(y), max(y)], origin='lower', cmap=cmap, vmin=0)\n",
    "    \n",
    "    \n",
    "#         # Plot the original points for each set\n",
    "#     colors = ['blue', 'red', 'green', 'purple', 'orange', 'brown']\n",
    "#     for i, (xi, yi, _) in enumerate(data_sets):\n",
    "#         plt.scatter(xi, yi, c=colors[i % len(colors)], label=f'Set {i + 1}', s=0.1)\n",
    "\n",
    "#     plt.colorbar(label='Loss')\n",
    "#     plt.xlabel('X')\n",
    "#     plt.ylabel('Y')\n",
    "#     plt.title('Combined Heatmap')\n",
    "#     plt.show()\n",
    "\n"
   ]
  },
  {
   "cell_type": "code",
   "execution_count": 168,
   "id": "e7f3b297",
   "metadata": {},
   "outputs": [],
   "source": [
    "def plot_heatmap(data_sets, max_value, cmap='viridis', num_bins=50, title=\"Empty\"):\n",
    "    # Initialize lists to store x, y, and loss values\n",
    "    x_all = []\n",
    "    y_all = []\n",
    "    loss_all = []\n",
    "\n",
    "    # Iterate over the data sets\n",
    "    for x, y, loss, exclude_region in data_sets:\n",
    "        # Exclude points where abs(x - y) <= 0.125 if exclude_region is True\n",
    "        if exclude_region:\n",
    "            mask = np.abs(x - y) > 0.125\n",
    "            x = x[mask]\n",
    "            y = y[mask]\n",
    "            loss = loss[mask]\n",
    "\n",
    "        x_all.append(x)\n",
    "        y_all.append(y)\n",
    "        loss_all.append(loss)\n",
    "\n",
    "    # Concatenate all x, y, and loss values\n",
    "    x = np.concatenate(x_all)\n",
    "    y = np.concatenate(y_all)\n",
    "    loss = np.concatenate(loss_all)\n",
    "\n",
    "    # Normalize the loss by the provided maximal value\n",
    "    loss = loss / max_value\n",
    "\n",
    "    # Define the bins for the x and y axes\n",
    "    x_bins = np.linspace(min(x), max(x), num_bins)\n",
    "    y_bins = np.linspace(min(y), max(y), num_bins)\n",
    "\n",
    "    # Create a grid of mean loss values for each bin\n",
    "    mean_loss_grid = np.zeros((num_bins - 1, num_bins - 1))\n",
    "    for i in range(num_bins - 1):\n",
    "        for j in range(num_bins - 1):\n",
    "            in_bin = (x >= x_bins[i]) & (x < x_bins[i + 1]) & (y >= y_bins[j]) & (y < y_bins[j + 1])\n",
    "            mean_loss_grid[j, i] = np.mean(loss[in_bin]) if np.any(in_bin) else np.nan\n",
    "\n",
    "    # Create the heatmap\n",
    "    plt.imshow(mean_loss_grid, origin='lower', cmap=cmap, vmin=0, vmax=1, aspect='equal')\n",
    "\n",
    "    # Remove ticks and axis labels\n",
    "    plt.xticks([])\n",
    "    plt.yticks([])\n",
    "    plt.axis('off')\n",
    "\n",
    "    plt.colorbar(label='Loss')\n",
    "    plt.title(title)\n",
    "    plt.show()\n"
   ]
  },
  {
   "cell_type": "code",
   "execution_count": 169,
   "id": "86410b39",
   "metadata": {},
   "outputs": [
    {
     "data": {
      "text/plain": [
       "array([248.86255   ,  39.578682  ,   6.7561874 , ...,   2.0676367 ,\n",
       "         0.37795907,   0.6334674 ], dtype=float32)"
      ]
     },
     "execution_count": 169,
     "metadata": {},
     "output_type": "execute_result"
    }
   ],
   "source": [
    "np.array(vanilla_ood_out).mean(axis=0)[-1]"
   ]
  },
  {
   "cell_type": "code",
   "execution_count": 170,
   "id": "b3ff4f94",
   "metadata": {},
   "outputs": [
    {
     "data": {
      "image/png": "[encoded data removed]",
      "text/plain": [
       "<Figure size 432x288 with 2 Axes>"
      ]
     },
     "metadata": {
      "needs_background": "light"
     },
     "output_type": "display_data"
    }
   ],
   "source": [
    "plot_heatmap([\n",
    "    (\n",
    "        id_dataset.latents[:, 0, -1], id_dataset.latents[:, 1, -1], np.array(vanilla_id_out).mean(axis=0)[-1], False\n",
    "    ),\n",
    "    (\n",
    "        ood_dataset.latents[:, 0, -1], ood_dataset.latents[:, 1, -1], np.array(vanilla_ood_out).mean(axis=0)[-1], True\n",
    "    )\n",
    "             ], \n",
    "    np.array(vanilla_ood_out).mean(axis=0).max(),\n",
    "    title=\"SlotAtt fixed, vanilla\"\n",
    ")"
   ]
  },
  {
   "cell_type": "code",
   "execution_count": 171,
   "id": "30dc12f4",
   "metadata": {},
   "outputs": [
    {
     "data": {
      "image/png": "[encoded data removed]",
      "text/plain": [
       "<Figure size 432x288 with 2 Axes>"
      ]
     },
     "metadata": {
      "needs_background": "light"
     },
     "output_type": "display_data"
    }
   ],
   "source": [
    "plot_heatmap([\n",
    "    (\n",
    "        id_dataset.latents[:, 0, -1], id_dataset.latents[:, 1, -1], np.array(enccons_id_out).mean(axis=0)[-1], False\n",
    "    ),\n",
    "    (\n",
    "        ood_dataset.latents[:, 0, -1], ood_dataset.latents[:, 1, -1], np.array(enccons_ood_out).mean(axis=0)[-1], True\n",
    "    )\n",
    "             ], np.array(vanilla_ood_out).mean(axis=0).max(),\n",
    "        title=\"SlotAtt fixed, enccons\"\n",
    "\n",
    ")"
   ]
  },
  {
   "cell_type": "code",
   "execution_count": null,
   "id": "58bc3087",
   "metadata": {},
   "outputs": [],
   "source": []
  }
 ],
 "metadata": {
  "kernelspec": {
   "display_name": "Python 3 (ipykernel)",
   "language": "python",
   "name": "python3"
  },
  "language_info": {
   "codemirror_mode": {
    "name": "ipython",
    "version": 3
   },
   "file_extension": ".py",
   "mimetype": "text/x-python",
   "name": "python",
   "nbconvert_exporter": "python",
   "pygments_lexer": "ipython3",
   "version": "3.10.6"
  }
 },
 "nbformat": 4,
 "nbformat_minor": 5
}
